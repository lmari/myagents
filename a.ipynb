{
 "cells": [
  {
   "cell_type": "code",
   "execution_count": 5,
   "id": "a472ae80",
   "metadata": {},
   "outputs": [],
   "source": [
    "from agents import Context, MyAgent\n",
    "import agentformats\n",
    "import agenttools"
   ]
  },
  {
   "cell_type": "code",
   "execution_count": 10,
   "id": "cc6c7cdf",
   "metadata": {},
   "outputs": [
    {
     "data": {
      "text/markdown": [
       "---\n",
       "**Agente**: ['0.6191463104198495', '5.952668773987672']"
      ],
      "text/plain": [
       "<IPython.core.display.Markdown object>"
      ]
     },
     "metadata": {},
     "output_type": "display_data"
    },
    {
     "data": {
      "text/markdown": [
       "---\n",
       "**Agente**: ['6.571815084407522']"
      ],
      "text/plain": [
       "<IPython.core.display.Markdown object>"
      ]
     },
     "metadata": {},
     "output_type": "display_data"
    }
   ],
   "source": [
    "\n",
    "agent = MyAgent(\"Agente\", Context(), tools=[agenttools.generate_random_number, agenttools.evaluate_expression],\n",
    "    role_and_skills=\"Sei un operatore incaricato di generare numeri casuali.\")\n",
    "\n",
    "#agent.do(\"Puoi generare un numero casuale tra 0 e 1?\", expanded_tool_response=True)\n",
    "\n",
    "agent.do(\"Puoi generare un numero casuale tra 0 e 1 e un numero casuale tra 5 e 6?\", expanded_tool_response=False)\n",
    "agent.do(\"Qual è la somma dei due numeri casuali che hai generato?\")"
   ]
  },
  {
   "cell_type": "code",
   "execution_count": 9,
   "id": "c5801def",
   "metadata": {},
   "outputs": [
    {
     "data": {
      "text/markdown": [
       "---\n",
       "**Agente**: ['56088']"
      ],
      "text/plain": [
       "<IPython.core.display.Markdown object>"
      ]
     },
     "metadata": {},
     "output_type": "display_data"
    }
   ],
   "source": [
    "MyAgent(\"Agente\", Context(), tools=[agenttools.generate_random_number, agenttools.evaluate_expression],\n",
    "    role_and_skills=\"Sei un operatore incaricato di fare calcoli.\").do(\"Quanto vale 123*456\", expanded_tool_response=False)"
   ]
  },
  {
   "cell_type": "code",
   "execution_count": 2,
   "id": "c1c5a2fa",
   "metadata": {},
   "outputs": [
    {
     "data": {
      "text/markdown": [
       "\n",
       "\n",
       "---\n",
       "**Agente**: La traduzione più comune e appropriata per \"migliorare progressivamente il codice\" in inglese è **refactoring**. \n",
       "\n",
       "Tuttavia, a seconda del contesto specifico, potrei anche usare:\n",
       "\n",
       "*   **Code cleanup:** Questo si riferisce più alla rimozione di codice morto o ridondante.\n",
       "*   **Code optimization:**  Questo implica migliorare le prestazioni del codice, ma non necessariamente la sua leggibilità o struttura.\n",
       "*   **Code improvement:** È un termine generico che copre tutti questi aspetti.\n",
       "\n",
       "**Refactoring** è il termine più preciso per descrivere l'attività di ristrutturare il codice esistente senza modificarne il comportamento esterno.\n",
       "\n",
       "Spero sia chiaro!  Posso aiutarti con altro, se hai bisogno."
      ],
      "text/plain": [
       "<IPython.core.display.Markdown object>"
      ]
     },
     "metadata": {},
     "output_type": "display_data"
    }
   ],
   "source": [
    "MyAgent(\"Agente\", Context(),\n",
    "    role_and_skills=\"Sei un operatore che parla italiano ma conosce l'inglese.\").do(\"Come si chiama in inglese l'attività di migliorare progressivamente il codice?\")"
   ]
  }
 ],
 "metadata": {
  "kernelspec": {
   "display_name": ".venv",
   "language": "python",
   "name": "python3"
  },
  "language_info": {
   "codemirror_mode": {
    "name": "ipython",
    "version": 3
   },
   "file_extension": ".py",
   "mimetype": "text/x-python",
   "name": "python",
   "nbconvert_exporter": "python",
   "pygments_lexer": "ipython3",
   "version": "3.13.2"
  }
 },
 "nbformat": 4,
 "nbformat_minor": 5
}
