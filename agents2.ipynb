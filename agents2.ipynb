{
 "cells": [
  {
   "cell_type": "markdown",
   "id": "c6b55f87",
   "metadata": {},
   "source": [
    "## Esempi orchestrati (ma ancora semplici) di architetture multi-agenti"
   ]
  },
  {
   "cell_type": "code",
   "execution_count": 7,
   "id": "5969ba7c",
   "metadata": {},
   "outputs": [],
   "source": [
    "from agents import Context, MyAgent, MyManager\n",
    "import agentformats\n",
    "import agenttools"
   ]
  },
  {
   "cell_type": "markdown",
   "id": "d9536c0a",
   "metadata": {},
   "source": [
    "Tre agenti \"conversazionali\" interagenti."
   ]
  },
  {
   "cell_type": "code",
   "execution_count": 11,
   "id": "9c89d99d",
   "metadata": {},
   "outputs": [
    {
     "data": {
      "text/markdown": [
       "---\n",
       "**Agente 1**: Certo! Ecco il nome di cinque nazioni europee:\n",
       "\n",
       "1.  Italia\n",
       "2.  Francia\n",
       "3.  Spagna\n",
       "4.  Germania\n",
       "5.  Regno Unito \n",
       "\n",
       "Hai altre domande?\n",
       "\n",
       "---\n",
       "**Agente 2**: Absolutely! Here are three more European countries, different from the ones I mentioned before:\n",
       "\n",
       "1.  Poland\n",
       "2.  Romania\n",
       "3.  Netherlands \n",
       "\n",
       "Do you want to test me with another question?\n",
       "\n",
       "---\n",
       "**Agente 3**: Bien sûr ! Voici quatre autres pays européens, différents de ceux que nous avons déjà mentionnés :\n",
       "\n",
       "1.  Portugal\n",
       "2.  Slovénie\n",
       "3.  Croatie\n",
       "4.  Chypre \n",
       "\n",
       "Est-ce que vous voulez me poser une autre question ?"
      ],
      "text/plain": [
       "<IPython.core.display.Markdown object>"
      ]
     },
     "metadata": {},
     "output_type": "display_data"
    }
   ],
   "source": [
    "context = Context()\n",
    "MyAgent(name=\"Agente 1\", context=context,\n",
    "    role_and_skills=\"Sei un operatore incaricato di rispondere in italiano alle domande che ricevi.\")\n",
    "MyAgent(name=\"Agente 2\", context=context,\n",
    "    role_and_skills=\"Sei un operatore incaricato di rispondere in inglese alle domande che ricevi.\")\n",
    "MyAgent(name=\"Agente 3\", context=context,\n",
    "    role_and_skills=\"Sei un operatore incaricato di rispondere in francese alle domande che ricevi.\")\n",
    "MyManager(name=\"Manager\", context=context).sequence([\n",
    "    (\"Agente 1\", \"Conosci il nome di cinque nazioni europee?\"),\n",
    "    (\"Agente 2\", \"E tu conosci il nome di tre nazioni europee diverse da quelle già indicate?\"),\n",
    "    (\"Agente 3\", \"E tu conosci il nome di quattro nazioni europee diverse da tutte quelle già indicate?\")\n",
    "])"
   ]
  },
  {
   "cell_type": "markdown",
   "id": "61af1aa4",
   "metadata": {},
   "source": [
    "Un agente \"esecutivo\" e un agente \"conversazionale\" interagenti."
   ]
  },
  {
   "cell_type": "code",
   "execution_count": 10,
   "id": "78871700",
   "metadata": {},
   "outputs": [
    {
     "data": {
      "text/markdown": [
       "---\n",
       "**Agente 1**: 2025-04-21 18:32:25.577858\n",
       "\n",
       "---\n",
       "**Agente 2**: Oggi è il 21 aprile e sono le 18:32."
      ],
      "text/plain": [
       "<IPython.core.display.Markdown object>"
      ]
     },
     "metadata": {},
     "output_type": "display_data"
    }
   ],
   "source": [
    "context = Context()\n",
    "MyAgent(name=\"Agente 1\", context=context, tools=[agenttools.get_current_time],\n",
    "    role_and_skills=\"Sei un operatore incaricato di gestire l'orario.\")\n",
    "MyAgent(name=\"Agente 2\", context=context,\n",
    "    role_and_skills=\"Sei un operatore incaricato di rispondere in buon italiano alle domande che ricevi.\")\n",
    "MyManager(name=\"Manager\", context=context).sequence([\n",
    "    (\"Agente 1\", \"Che ore sono?\"),\n",
    "    (\"Agente 2\", \"Prendi l'informazione prodotta dall'Agente 1 e la scrivi in una frase in italiano, indicando solo giorno e mese, ore e minuti?\"),\n",
    "])"
   ]
  },
  {
   "cell_type": "markdown",
   "id": "7cb90658",
   "metadata": {},
   "source": [
    "Un agente con due richieste. "
   ]
  },
  {
   "cell_type": "code",
   "execution_count": 12,
   "id": "63d2316f",
   "metadata": {},
   "outputs": [
    {
     "data": {
      "text/markdown": [
       "---\n",
       "**Agente**: 4.424107631027198"
      ],
      "text/plain": [
       "<IPython.core.display.Markdown object>"
      ]
     },
     "metadata": {},
     "output_type": "display_data"
    },
    {
     "data": {
      "text/markdown": [
       "---\n",
       "**Agente**: 19.514695176868727"
      ],
      "text/plain": [
       "<IPython.core.display.Markdown object>"
      ]
     },
     "metadata": {},
     "output_type": "display_data"
    }
   ],
   "source": [
    "context=Context()\n",
    "MyAgent(name=\"Agente\", context=context, tools=[agenttools.generate_random_number],\n",
    "    role_and_skills=\"Sei un operatore incaricato di generare numeri casuali.\")\n",
    "MyManager(name=\"Manager\", context=context).sequence([\n",
    "    (\"Agente\", [\"Puoi generare un numero casuale tra 1 e 10?\", \"Puoi generare un numero casuale tra 19 e 20?\"])\n",
    "])"
   ]
  },
  {
   "cell_type": "markdown",
   "id": "e905e9e5",
   "metadata": {},
   "source": [
    "Un agente con una richiesta ripetuta."
   ]
  },
  {
   "cell_type": "code",
   "execution_count": 13,
   "id": "114ae3fa",
   "metadata": {},
   "outputs": [
    {
     "data": {
      "text/markdown": [
       "---\n",
       "**Agente**: 7.467379031722191"
      ],
      "text/plain": [
       "<IPython.core.display.Markdown object>"
      ]
     },
     "metadata": {},
     "output_type": "display_data"
    },
    {
     "data": {
      "text/markdown": [
       "---\n",
       "**Agente**: 4.723331610918328"
      ],
      "text/plain": [
       "<IPython.core.display.Markdown object>"
      ]
     },
     "metadata": {},
     "output_type": "display_data"
    }
   ],
   "source": [
    "context=Context()\n",
    "MyAgent(name=\"Agente\", context=context, tools=[agenttools.generate_random_number],\n",
    "    role_and_skills=\"Sei un operatore incaricato di generare numeri casuali.\")\n",
    "MyManager(name=\"Manager\", context=context).sequence([\n",
    "    (\"Agente\", \"Puoi generare un numero casuale tra 1 e 10?\", {\"action\": \"loop\", \"count\": 2})\n",
    "])"
   ]
  },
  {
   "cell_type": "markdown",
   "id": "bcc5eaf1",
   "metadata": {},
   "source": [
    "Un agente con una richiesta ripetuta in funzione del contenuto di un elenco di dati."
   ]
  },
  {
   "cell_type": "code",
   "execution_count": null,
   "id": "1fd42a46",
   "metadata": {},
   "outputs": [
    {
     "data": {
      "text/markdown": [
       "---\n",
       "**Agente**: 1.3605666135605436"
      ],
      "text/plain": [
       "<IPython.core.display.Markdown object>"
      ]
     },
     "metadata": {},
     "output_type": "display_data"
    },
    {
     "data": {
      "text/markdown": [
       "---\n",
       "**Agente**: 3.2488126903966967"
      ],
      "text/plain": [
       "<IPython.core.display.Markdown object>"
      ]
     },
     "metadata": {},
     "output_type": "display_data"
    }
   ],
   "source": [
    "context=Context()\n",
    "MyAgent(name=\"Agente\", context=context, tools=[agenttools.generate_random_number],\n",
    "    role_and_skills=\"Sei un operatore incaricato di generare numeri casuali.\")\n",
    "MyManager(name=\"Manager\", context=context).sequence([\n",
    "    (\"Agente\", \"Puoi generare un numero casuale tra i due numeri specificati?\", {\"action\": \"loop\", \"data\": [(1, 2), (3, 4)]})\n",
    "])"
   ]
  },
  {
   "cell_type": "markdown",
   "id": "4d0bc23b",
   "metadata": {},
   "source": [
    "Due agenti, con il secondo con una richiesta ripetuta in funzione del risultato della richiesta al primo agente."
   ]
  },
  {
   "cell_type": "code",
   "execution_count": 16,
   "id": "5e9d11a2",
   "metadata": {},
   "outputs": [
    {
     "data": {
      "text/markdown": [
       "---\n",
       "**Agente 1**: 7.055494873584035\n",
       "\n",
       "---\n",
       "**Agente 2**: { \"number\": 7.05 }\n",
       "\n",
       "---\n",
       "**Agente 2**: { \"number\": 7.055 }\n",
       "\n",
       "---\n",
       "**Agente 2**: { \"number\": 7.0554 }"
      ],
      "text/plain": [
       "<IPython.core.display.Markdown object>"
      ]
     },
     "metadata": {},
     "output_type": "display_data"
    }
   ],
   "source": [
    "context=Context()\n",
    "MyAgent(name=\"Agente 1\", context=context, tools=[agenttools.generate_random_number],\n",
    "    role_and_skills=\"Sei un operatore incaricato di generare numeri casuali.\")\n",
    "MyAgent(name=\"Agente 2\", context=context, response_format=agentformats.decimal_number_schema,\n",
    "    role_and_skills=\"Sei un operatore incaricato di rispondere alle domande che ricevi, rispettando le condizioni indicate sul formato della risposta.\")\n",
    "MyManager(name=\"Manager\", context=context).sequence([\n",
    "    (\"Agente 1\", \"Puoi generare un numero casuale tra 1 e 10?\"),\n",
    "    (\"Agente 2\", \"Puoi arrotondare numero prodotto dall'Agente 1 al numero di cifre decimali specificato?\", {\"action\": \"loop\", \"data\": [2, 3, 4]}),\n",
    "])"
   ]
  },
  {
   "cell_type": "markdown",
   "id": "7a03395e",
   "metadata": {},
   "source": [
    "Un agente con due richieste successive, la seconda ripetuta in funzione del risultato della precedente."
   ]
  },
  {
   "cell_type": "code",
   "execution_count": 4,
   "id": "911bbc62",
   "metadata": {},
   "outputs": [
    {
     "data": {
      "text/markdown": [
       "---\n",
       "**Agente**: ['uno.txt', 'due.txt']"
      ],
      "text/plain": [
       "<IPython.core.display.Markdown object>"
      ]
     },
     "metadata": {},
     "output_type": "display_data"
    },
    {
     "data": {
      "text/markdown": [
       "---\n",
       "**Agente**: questo è il contenuto del file 'uno.txt'\n"
      ],
      "text/plain": [
       "<IPython.core.display.Markdown object>"
      ]
     },
     "metadata": {},
     "output_type": "display_data"
    },
    {
     "data": {
      "text/markdown": [
       "---\n",
       "**Agente**: questo è il contenuto del file 'due.txt'\n"
      ],
      "text/plain": [
       "<IPython.core.display.Markdown object>"
      ]
     },
     "metadata": {},
     "output_type": "display_data"
    }
   ],
   "source": [
    "context = Context()\n",
    "MyAgent(name=\"Agente\", context=context, tools=[agenttools.list_files, agenttools.read_file],\n",
    "    role_and_skills=\"Sei un operatore incaricato di cercare informazione nel file system locale.\")\n",
    "MyManager(name=\"Manager\", context=context).sequence([\n",
    "    (\"Agente\", \"Puoi elencare i files contenuti nella directory /home/lucamari/prova?\"),\n",
    "    (\"Agente\", \"Puoi mostrare il contenuto del file specificato, nella stessa directory?\", {\"action\": \"loop\", \"data\": \"last_result\"})\n",
    "])"
   ]
  }
 ],
 "metadata": {
  "kernelspec": {
   "display_name": ".venv",
   "language": "python",
   "name": "python3"
  },
  "language_info": {
   "codemirror_mode": {
    "name": "ipython",
    "version": 3
   },
   "file_extension": ".py",
   "mimetype": "text/x-python",
   "name": "python",
   "nbconvert_exporter": "python",
   "pygments_lexer": "ipython3",
   "version": "3.13.2"
  }
 },
 "nbformat": 4,
 "nbformat_minor": 5
}
