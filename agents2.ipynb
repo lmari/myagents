{
 "cells": [
  {
   "cell_type": "code",
   "execution_count": 1,
   "id": "5969ba7c",
   "metadata": {},
   "outputs": [],
   "source": [
    "from agents import Context, MyAgent, MyManager\n",
    "import agenttools"
   ]
  },
  {
   "cell_type": "code",
   "execution_count": null,
   "id": "9c89d99d",
   "metadata": {},
   "outputs": [
    {
     "data": {
      "text/markdown": [
       "---\n",
       "**Agente 1**: Certo! Ecco il nome di cinque nazioni europee:\n",
       "\n",
       "1.  Italia\n",
       "2.  Francia\n",
       "3.  Spagna\n",
       "4.  Germania\n",
       "5.  Regno Unito \n",
       "\n",
       "Hai altre domande?\n",
       "\n",
       "---\n",
       "**Agente 2**: Absolutely! Here are three more European countries, different from the ones I mentioned before:\n",
       "\n",
       "1.  Poland\n",
       "2.  Netherlands\n",
       "3.  Portugal \n",
       "\n",
       "Do you want to test me with another question?\n",
       "\n",
       "---\n",
       "**Agente 3**: Bien sûr ! Voici quatre autres pays européens, différents de ceux que nous avons déjà mentionnés :\n",
       "\n",
       "1.  Greece (Grèce)\n",
       "2.  Belgium (Belgique)\n",
       "3.  Czech Republic (République tchèque)\n",
       "4.  Romania (Roumanie)\n",
       "\n",
       "Est-ce que vous avez d'autres questions ?"
      ],
      "text/plain": [
       "<IPython.core.display.Markdown object>"
      ]
     },
     "metadata": {},
     "output_type": "display_data"
    }
   ],
   "source": [
    "context = Context()\n",
    "MyAgent(name=\"Agente 1\", context=context,\n",
    "    role_and_skills=\"Sei un operatore incaricato di cercare di rispondere in italiano alle domande che ricevi.\")\n",
    "MyAgent(name=\"Agente 2\", context=context,\n",
    "    role_and_skills=\"Sei un operatore incaricato di cercare di rispondere in inglese alle domande che ricevi.\")\n",
    "MyAgent(name=\"Agente 3\", context=context,\n",
    "    role_and_skills=\"Sei un operatore incaricato di cercare di rispondere in francese alle domande che ricevi.\")\n",
    "MyManager(name=\"Manager\", context=context).sequence([\n",
    "    (\"Agente 1\", \"Conosci il nome di cinque nazioni europee?\"),\n",
    "    (\"Agente 2\", \"E tu conosci il nome di tre nazioni europee diverse da quelle già indicate?\"),\n",
    "    (\"Agente 3\", \"E tu conosci il nome di quattro nazioni europee diverse da tutte quelle già indicate?\")\n",
    "])"
   ]
  },
  {
   "cell_type": "code",
   "execution_count": 2,
   "id": "78871700",
   "metadata": {},
   "outputs": [
    {
     "data": {
      "text/markdown": [
       "---\n",
       "**Agente 1**: 2025-04-21 10:41:13.947372\n",
       "\n",
       "---\n",
       "**Agente 2**: Oggi è il 21 aprile e sono le 10:41."
      ],
      "text/plain": [
       "<IPython.core.display.Markdown object>"
      ]
     },
     "metadata": {},
     "output_type": "display_data"
    }
   ],
   "source": [
    "context = Context()\n",
    "MyAgent(name=\"Agente 1\", context=context, tools=[agenttools.get_current_time],\n",
    "    role_and_skills=\"Sei un operatore incaricato di gestire l'orario.\")\n",
    "MyAgent(name=\"Agente 2\", context=context,\n",
    "    role_and_skills=\"Sei un operatore incaricato di cercare di rispondere in buon italiano alle domande che ricevi.\")\n",
    "MyManager(name=\"Manager\", context=context).sequence([\n",
    "    (\"Agente 1\", \"Che ore sono?\"),\n",
    "    (\"Agente 2\", \"Prendi l'informazione prodotta dall'Agente 1 e la scrivi in una frase in italiano, indicando solo giorno e mese, ore e minuti?\"),\n",
    "])"
   ]
  },
  {
   "cell_type": "code",
   "execution_count": null,
   "id": "63d2316f",
   "metadata": {},
   "outputs": [
    {
     "data": {
      "text/markdown": [
       "---\n",
       "**Agente**: 2.417309271120356"
      ],
      "text/plain": [
       "<IPython.core.display.Markdown object>"
      ]
     },
     "metadata": {},
     "output_type": "display_data"
    },
    {
     "data": {
      "text/markdown": [
       "---\n",
       "**Agente**: 19.698342294893877"
      ],
      "text/plain": [
       "<IPython.core.display.Markdown object>"
      ]
     },
     "metadata": {},
     "output_type": "display_data"
    }
   ],
   "source": [
    "context=Context()\n",
    "MyAgent(name=\"Agente\", context=context, tools=[agenttools.generate_random_number],\n",
    "    role_and_skills=\"Sei un operatore incaricato di generare numeri casuali.\")\n",
    "MyManager(name=\"Manager\", context=context).sequence([\n",
    "    (\"Agente\", [\"Puoi un numero casuale tra 1 e 10?\", \"Puoi generare un numero casuale tra 19 e 20?\"])\n",
    "])"
   ]
  },
  {
   "cell_type": "code",
   "execution_count": null,
   "id": "114ae3fa",
   "metadata": {},
   "outputs": [
    {
     "data": {
      "text/markdown": [
       "---\n",
       "**Agente**: 9.755002225812714"
      ],
      "text/plain": [
       "<IPython.core.display.Markdown object>"
      ]
     },
     "metadata": {},
     "output_type": "display_data"
    },
    {
     "data": {
      "text/markdown": [
       "---\n",
       "**Agente**: 7.003812322687421"
      ],
      "text/plain": [
       "<IPython.core.display.Markdown object>"
      ]
     },
     "metadata": {},
     "output_type": "display_data"
    }
   ],
   "source": [
    "context=Context()\n",
    "MyAgent(name=\"Agente\", context=context, tools=[agenttools.generate_random_number],\n",
    "    role_and_skills=\"Sei un operatore incaricato di generare numeri casuali.\")\n",
    "MyManager(name=\"Manager\", context=context).sequence([\n",
    "    (\"Agente\", \"Puoi generare un numero casuale tra 1 e 10?\", {\"action\": \"loop\", \"count\": 2})\n",
    "])"
   ]
  },
  {
   "cell_type": "code",
   "execution_count": null,
   "id": "1fd42a46",
   "metadata": {},
   "outputs": [
    {
     "data": {
      "text/markdown": [
       "---\n",
       "**Agente**: 1.3605666135605436"
      ],
      "text/plain": [
       "<IPython.core.display.Markdown object>"
      ]
     },
     "metadata": {},
     "output_type": "display_data"
    },
    {
     "data": {
      "text/markdown": [
       "---\n",
       "**Agente**: 3.2488126903966967"
      ],
      "text/plain": [
       "<IPython.core.display.Markdown object>"
      ]
     },
     "metadata": {},
     "output_type": "display_data"
    }
   ],
   "source": [
    "context=Context()\n",
    "MyAgent(name=\"Agente\", context=context, tools=[agenttools.generate_random_number],\n",
    "    role_and_skills=\"Sei un operatore incaricato di generare numeri casuali.\")\n",
    "MyManager(name=\"Manager\", context=context).sequence([\n",
    "    (\"Agente\", \"Puoi generare un numero casuale tra i due numeri specificati?\", {\"action\": \"loop\", \"data\": [(1, 2), (3, 4)]})\n",
    "])"
   ]
  },
  {
   "cell_type": "code",
   "execution_count": 4,
   "id": "911bbc62",
   "metadata": {},
   "outputs": [
    {
     "data": {
      "text/markdown": [
       "---\n",
       "**Agente**: ['uno.txt', 'due.txt']"
      ],
      "text/plain": [
       "<IPython.core.display.Markdown object>"
      ]
     },
     "metadata": {},
     "output_type": "display_data"
    },
    {
     "data": {
      "text/markdown": [
       "---\n",
       "**Agente**: questo è il contenuto del file 'uno.txt'\n"
      ],
      "text/plain": [
       "<IPython.core.display.Markdown object>"
      ]
     },
     "metadata": {},
     "output_type": "display_data"
    },
    {
     "data": {
      "text/markdown": [
       "---\n",
       "**Agente**: questo è il contenuto del file 'due.txt'\n"
      ],
      "text/plain": [
       "<IPython.core.display.Markdown object>"
      ]
     },
     "metadata": {},
     "output_type": "display_data"
    }
   ],
   "source": [
    "context = Context()\n",
    "MyAgent(name=\"Agente\", context=context, tools=[agenttools.list_files, agenttools.read_file],\n",
    "    role_and_skills=\"Sei un operatore incaricato di cercare informazione nel file system locale.\")\n",
    "MyManager(name=\"Manager\", context=context).sequence([\n",
    "    (\"Agente\", \"Puoi elencare i files contenuti nella directory /home/lucamari/prova?\"),\n",
    "    (\"Agente\", \"Puoi mostrare il contenuto del file specificato, nella stessa directory?\", {\"action\": \"loop\", \"data\": \"last_result\"})\n",
    "])"
   ]
  }
 ],
 "metadata": {
  "kernelspec": {
   "display_name": ".venv",
   "language": "python",
   "name": "python3"
  },
  "language_info": {
   "codemirror_mode": {
    "name": "ipython",
    "version": 3
   },
   "file_extension": ".py",
   "mimetype": "text/x-python",
   "name": "python",
   "nbconvert_exporter": "python",
   "pygments_lexer": "ipython3",
   "version": "3.13.2"
  }
 },
 "nbformat": 4,
 "nbformat_minor": 5
}
