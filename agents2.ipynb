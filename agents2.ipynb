{
 "cells": [
  {
   "cell_type": "markdown",
   "id": "c6b55f87",
   "metadata": {},
   "source": [
    "## Esempi orchestrati, ma ancora in modo rigido, di architetture multi-agenti"
   ]
  },
  {
   "cell_type": "code",
   "execution_count": 1,
   "id": "5969ba7c",
   "metadata": {},
   "outputs": [],
   "source": [
    "from agents import Context, MyAgent, MyManager\n",
    "import agentformats\n",
    "import agenttools"
   ]
  },
  {
   "cell_type": "markdown",
   "id": "d9536c0a",
   "metadata": {},
   "source": [
    "Tre agenti \"conversazionali\" interagenti."
   ]
  },
  {
   "cell_type": "code",
   "execution_count": 2,
   "id": "9c89d99d",
   "metadata": {},
   "outputs": [
    {
     "data": {
      "text/markdown": [
       "\n",
       "\n",
       "---\n",
       "**Agente 1**: Certo! Ecco il nome di cinque nazioni europee:\n",
       "\n",
       "1.  Italia\n",
       "2.  Francia\n",
       "3.  Germania\n",
       "4.  Spagna\n",
       "5.  Regno Unito \n",
       "\n",
       "Hai altre domande o vorresti sapere qualcosa in particolare su queste nazioni?\n",
       "\n",
       "---\n",
       "**Agente 2**: Absolutely! Here are three more European nations, different from the ones I listed before:\n",
       "\n",
       "1.  Poland\n",
       "2.  Netherlands\n",
       "3.  Portugal \n",
       "\n",
       "Do you want to talk about any of these, or perhaps another aspect of Europe?\n",
       "\n",
       "---\n",
       "**Agente 3**: Bien sûr ! Voici quatre nations européennes différentes de celles que nous avons déjà mentionnées :\n",
       "\n",
       "1.  Suisse (Switzerland)\n",
       "2.  Belgique (Belgium)\n",
       "3.  Hongrie (Hungary)\n",
       "4.  Croatie (Croatia)\n",
       "\n",
       "Est-ce que vous voulez en parler davantage ?"
      ],
      "text/plain": [
       "<IPython.core.display.Markdown object>"
      ]
     },
     "metadata": {},
     "output_type": "display_data"
    }
   ],
   "source": [
    "context = Context()\n",
    "MyAgent(\"Agente 1\", context, role_and_skills=\"Rispondi in italiano alle richieste che ricevi.\")\n",
    "MyAgent(\"Agente 2\", context, role_and_skills=\"Rispondi in inglese alle richieste che ricevi.\")\n",
    "MyAgent(\"Agente 3\", context, role_and_skills=\"Rispondi in francese alle richieste che ricevi.\")\n",
    "MyManager(\"Manager\", context).sequence([\n",
    "    (\"Agente 1\", \"Conosci il nome di cinque nazioni europee?\"),\n",
    "    (\"Agente 2\", \"E tu conosci il nome di tre nazioni europee diverse da quelle già indicate?\"),\n",
    "    (\"Agente 3\", \"E tu conosci il nome di quattro nazioni europee diverse da tutte quelle già indicate?\")\n",
    "])"
   ]
  },
  {
   "cell_type": "markdown",
   "id": "61af1aa4",
   "metadata": {},
   "source": [
    "Un agente \"esecutivo\" e un agente \"conversazionale\" interagenti."
   ]
  },
  {
   "cell_type": "code",
   "execution_count": 3,
   "id": "78871700",
   "metadata": {},
   "outputs": [
    {
     "data": {
      "text/markdown": [
       "---\n",
       "**Agente 1**: 2025-05-25 15:53:35.828625+02:00\n",
       "\n",
       "---\n",
       "**Agente 2**: Oggi è il 25 maggio e sono le 15:53."
      ],
      "text/plain": [
       "<IPython.core.display.Markdown object>"
      ]
     },
     "metadata": {},
     "output_type": "display_data"
    }
   ],
   "source": [
    "context = Context()\n",
    "MyAgent(\"Agente 1\", context, tools=[agenttools.get_current_day_and_time],\n",
    "    role_and_skills=\"Sei incaricato di gestire l'orario.\")\n",
    "MyAgent(\"Agente 2\", context,\n",
    "    role_and_skills=\"Sei incaricato di rispondere in italiano alle domande che ricevi.\")\n",
    "MyManager(\"Manager\", context).sequence([\n",
    "    (\"Agente 1\", \"Che ore sono?\"),\n",
    "    (\"Agente 2\", \"Prendi l'informazione prodotta dall'Agente 1 e la scrivi in una frase in italiano, indicando solo giorno e mese, ore e minuti?\"),\n",
    "])"
   ]
  },
  {
   "cell_type": "markdown",
   "id": "7cb90658",
   "metadata": {},
   "source": [
    "Un agente a cui sono sottoposte due richieste. "
   ]
  },
  {
   "cell_type": "code",
   "execution_count": 4,
   "id": "63d2316f",
   "metadata": {},
   "outputs": [
    {
     "data": {
      "text/markdown": [
       "---\n",
       "**Agente**: 3.1679607519333786"
      ],
      "text/plain": [
       "<IPython.core.display.Markdown object>"
      ]
     },
     "metadata": {},
     "output_type": "display_data"
    },
    {
     "data": {
      "text/markdown": [
       "---\n",
       "**Agente**: 19.668256157681828"
      ],
      "text/plain": [
       "<IPython.core.display.Markdown object>"
      ]
     },
     "metadata": {},
     "output_type": "display_data"
    }
   ],
   "source": [
    "context=Context()\n",
    "MyAgent(\"Agente\", context, tools=[agenttools.generate_random_number],\n",
    "    role_and_skills=\"Sei incaricato di generare numeri casuali.\")\n",
    "MyManager(\"Manager\", context).sequence([\n",
    "    (\"Agente\", [\"Puoi generare un numero casuale tra 1 e 10?\", \"Puoi generare un numero casuale tra 19 e 20?\"])\n",
    "])"
   ]
  },
  {
   "cell_type": "markdown",
   "id": "e905e9e5",
   "metadata": {},
   "source": [
    "Un agente con una richiesta ripetuta."
   ]
  },
  {
   "cell_type": "code",
   "execution_count": 5,
   "id": "114ae3fa",
   "metadata": {},
   "outputs": [
    {
     "data": {
      "text/markdown": [
       "---\n",
       "**Agente**: 8.00493706093325"
      ],
      "text/plain": [
       "<IPython.core.display.Markdown object>"
      ]
     },
     "metadata": {},
     "output_type": "display_data"
    },
    {
     "data": {
      "text/markdown": [
       "---\n",
       "**Agente**: 9.522822517458557"
      ],
      "text/plain": [
       "<IPython.core.display.Markdown object>"
      ]
     },
     "metadata": {},
     "output_type": "display_data"
    },
    {
     "data": {
      "text/markdown": [
       "---\n",
       "**Agente**: 4.937991661062653"
      ],
      "text/plain": [
       "<IPython.core.display.Markdown object>"
      ]
     },
     "metadata": {},
     "output_type": "display_data"
    },
    {
     "data": {
      "text/markdown": [
       "---\n",
       "**Agente**: 7.494537565795239"
      ],
      "text/plain": [
       "<IPython.core.display.Markdown object>"
      ]
     },
     "metadata": {},
     "output_type": "display_data"
    }
   ],
   "source": [
    "context=Context()\n",
    "MyAgent(\"Agente\", context, tools=[agenttools.generate_random_number],\n",
    "    role_and_skills=\"Sei incaricato di generare numeri casuali.\")\n",
    "MyManager(\"Manager\", context).sequence([\n",
    "    (\"Agente\", \"Puoi generare un numero casuale tra 1 e 10?\", {\"action\": \"loop\", \"count\": 4})\n",
    "])"
   ]
  },
  {
   "cell_type": "markdown",
   "id": "bcc5eaf1",
   "metadata": {},
   "source": [
    "Un agente con una richiesta ripetuta in funzione del contenuto di un elenco di dati."
   ]
  },
  {
   "cell_type": "code",
   "execution_count": 6,
   "id": "1fd42a46",
   "metadata": {},
   "outputs": [
    {
     "data": {
      "text/markdown": [
       "---\n",
       "**Agente**: 1.162379343565648"
      ],
      "text/plain": [
       "<IPython.core.display.Markdown object>"
      ]
     },
     "metadata": {},
     "output_type": "display_data"
    },
    {
     "data": {
      "text/markdown": [
       "---\n",
       "**Agente**: 3.112339420407191"
      ],
      "text/plain": [
       "<IPython.core.display.Markdown object>"
      ]
     },
     "metadata": {},
     "output_type": "display_data"
    }
   ],
   "source": [
    "context=Context()\n",
    "MyAgent(\"Agente\", context, tools=[agenttools.generate_random_number],\n",
    "    role_and_skills=\"Sei incaricato di generare numeri casuali.\")\n",
    "MyManager(\"Manager\", context).sequence([\n",
    "    (\"Agente\", \"Puoi generare un numero casuale tra i due numeri specificati?\", {\"action\": \"loop\", \"data\": [(1, 2), (3, 4)]})\n",
    "])"
   ]
  },
  {
   "cell_type": "markdown",
   "id": "4d0bc23b",
   "metadata": {},
   "source": [
    "Due agenti, con il secondo con una richiesta ripetuta in funzione del risultato della richiesta al primo agente."
   ]
  },
  {
   "cell_type": "code",
   "execution_count": 8,
   "id": "5e9d11a2",
   "metadata": {},
   "outputs": [
    {
     "data": {
      "text/markdown": [
       "---\n",
       "**Agente 1**: 9.522429930145439\n",
       "\n",
       "---\n",
       "**Agente 2**: {\n",
       "\"number\": 9.52\n",
       "}\n",
       "\n",
       "\n",
       "---\n",
       "**Agente 2**: {\n",
       "\"number\": 9.522\n",
       "}\n",
       "\n",
       "---\n",
       "**Agente 2**: {\n",
       "\"number\": 9.5224\n",
       "}"
      ],
      "text/plain": [
       "<IPython.core.display.Markdown object>"
      ]
     },
     "metadata": {},
     "output_type": "display_data"
    }
   ],
   "source": [
    "context=Context()\n",
    "MyAgent(\"Agente 1\", context, tools=[agenttools.generate_random_number],\n",
    "    role_and_skills=\"Sei incaricato di generare numeri casuali.\")\n",
    "MyAgent(\"Agente 2\", context, response_format=agentformats.DecimalNumber,\n",
    "    role_and_skills=\"Sei incaricato di rispondere alle domande che ricevi, rispettando le condizioni indicate sul formato della risposta.\")\n",
    "MyManager(\"Manager\", context).sequence([\n",
    "    (\"Agente 1\", \"Puoi generare un numero casuale tra 1 e 10?\"),\n",
    "    (\"Agente 2\", \"Puoi arrotondare numero prodotto dall'Agente 1 al numero di cifre decimali specificato?\", {\"action\": \"loop\", \"data\": [2, 3, 4]}),\n",
    "])"
   ]
  },
  {
   "cell_type": "markdown",
   "id": "7a03395e",
   "metadata": {},
   "source": [
    "Un agente con due richieste successive, la seconda ripetuta in funzione del risultato della precedente."
   ]
  },
  {
   "cell_type": "code",
   "execution_count": 2,
   "id": "911bbc62",
   "metadata": {},
   "outputs": [
    {
     "data": {
      "text/markdown": [
       "---\n",
       "**Agente**: ['one.txt', 'two.txt']"
      ],
      "text/plain": [
       "<IPython.core.display.Markdown object>"
      ]
     },
     "metadata": {},
     "output_type": "display_data"
    },
    {
     "data": {
      "text/markdown": [
       "---\n",
       "**Agente**: This is the content of the file 'one.txt'.\n"
      ],
      "text/plain": [
       "<IPython.core.display.Markdown object>"
      ]
     },
     "metadata": {},
     "output_type": "display_data"
    },
    {
     "data": {
      "text/markdown": [
       "---\n",
       "**Agente**: questo è il contenuto del file 'due.txt'\n"
      ],
      "text/plain": [
       "<IPython.core.display.Markdown object>"
      ]
     },
     "metadata": {},
     "output_type": "display_data"
    }
   ],
   "source": [
    "context = Context()\n",
    "MyAgent(\"Agente\", context, tools=[agenttools.list_files, agenttools.read_file],\n",
    "    role_and_skills=\"Sei incaricato di cercare informazione nel file system locale.\")\n",
    "MyManager(\"Manager\", context).sequence([\n",
    "    (\"Agente\", \"Puoi elencare i files contenuti nella directory /home/lucamari/trials?\"),\n",
    "    (\"Agente\", \"Puoi mostrare il contenuto del file specificato, nella stessa directory?\", {\"action\": \"loop\", \"data\": \"last_result\"})\n",
    "])"
   ]
  }
 ],
 "metadata": {
  "kernelspec": {
   "display_name": ".venv",
   "language": "python",
   "name": "python3"
  },
  "language_info": {
   "codemirror_mode": {
    "name": "ipython",
    "version": 3
   },
   "file_extension": ".py",
   "mimetype": "text/x-python",
   "name": "python",
   "nbconvert_exporter": "python",
   "pygments_lexer": "ipython3",
   "version": "3.13.3"
  }
 },
 "nbformat": 4,
 "nbformat_minor": 5
}
