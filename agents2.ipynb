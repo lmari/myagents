{
 "cells": [
  {
   "cell_type": "markdown",
   "id": "c6b55f87",
   "metadata": {},
   "source": [
    "## Esempi orchestrati (ma ancora semplici) di architetture multi-agenti"
   ]
  },
  {
   "cell_type": "code",
   "execution_count": 7,
   "id": "5969ba7c",
   "metadata": {},
   "outputs": [],
   "source": [
    "from agents import Context, MyAgent, MyManager\n",
    "import agentformats\n",
    "import agenttools"
   ]
  },
  {
   "cell_type": "markdown",
   "id": "d9536c0a",
   "metadata": {},
   "source": [
    "Tre agenti \"conversazionali\" interagenti."
   ]
  },
  {
   "cell_type": "code",
   "execution_count": 8,
   "id": "9c89d99d",
   "metadata": {},
   "outputs": [
    {
     "data": {
      "text/markdown": [
       "---\n",
       "**Agente 1**: Certo! Ecco il nome di cinque nazioni europee:\n",
       "\n",
       "1.  Italia\n",
       "2.  Francia\n",
       "3.  Spagna\n",
       "4.  Germania\n",
       "5.  Regno Unito \n",
       "\n",
       "Hai altre domande a cui posso rispondere?\n",
       "\n",
       "---\n",
       "**Agente 2**: Absolutely! Here are three more European countries, different from the ones I mentioned before:\n",
       "\n",
       "1.  Poland\n",
       "2.  Netherlands\n",
       "3.  Portugal \n",
       "\n",
       "Do you want to test me with another question?\n",
       "\n",
       "---\n",
       "**Agente 3**: Bien sûr ! Voici quatre autres pays européens, différents de ceux que nous avons déjà mentionnés :\n",
       "\n",
       "1.  Greece (Grèce)\n",
       "2.  Belgium (Belgique)\n",
       "3.  Czech Republic (République tchèque)\n",
       "4.  Romania (Roumanie)\n",
       "\n",
       "Est-ce que vous voulez me poser une autre question ?"
      ],
      "text/plain": [
       "<IPython.core.display.Markdown object>"
      ]
     },
     "metadata": {},
     "output_type": "display_data"
    }
   ],
   "source": [
    "context = Context()\n",
    "MyAgent(\"Agente 1\", context,\n",
    "    role_and_skills=\"Sei un operatore incaricato di rispondere in italiano alle domande che ricevi.\")\n",
    "MyAgent(\"Agente 2\", context,\n",
    "    role_and_skills=\"Sei un operatore incaricato di rispondere in inglese alle domande che ricevi.\")\n",
    "MyAgent(\"Agente 3\", context,\n",
    "    role_and_skills=\"Sei un operatore incaricato di rispondere in francese alle domande che ricevi.\")\n",
    "MyManager(\"Manager\", context).sequence([\n",
    "    (\"Agente 1\", \"Conosci il nome di cinque nazioni europee?\"),\n",
    "    (\"Agente 2\", \"E tu conosci il nome di tre nazioni europee diverse da quelle già indicate?\"),\n",
    "    (\"Agente 3\", \"E tu conosci il nome di quattro nazioni europee diverse da tutte quelle già indicate?\")\n",
    "])"
   ]
  },
  {
   "cell_type": "markdown",
   "id": "61af1aa4",
   "metadata": {},
   "source": [
    "Un agente \"esecutivo\" e un agente \"conversazionale\" interagenti."
   ]
  },
  {
   "cell_type": "code",
   "execution_count": 9,
   "id": "78871700",
   "metadata": {},
   "outputs": [
    {
     "data": {
      "text/markdown": [
       "---\n",
       "**Agente 1**: 2025-04-22 21:20:13.112177\n",
       "\n",
       "---\n",
       "**Agente 2**: Sono le 21:20 del 22 aprile."
      ],
      "text/plain": [
       "<IPython.core.display.Markdown object>"
      ]
     },
     "metadata": {},
     "output_type": "display_data"
    }
   ],
   "source": [
    "context = Context()\n",
    "MyAgent(\"Agente 1\", context, tools=[agenttools.get_current_time],\n",
    "    role_and_skills=\"Sei un operatore incaricato di gestire l'orario.\")\n",
    "MyAgent(\"Agente 2\", context,\n",
    "    role_and_skills=\"Sei un operatore incaricato di rispondere in italiano alle domande che ricevi.\")\n",
    "MyManager(\"Manager\", context).sequence([\n",
    "    (\"Agente 1\", \"Che ore sono?\"),\n",
    "    (\"Agente 2\", \"Prendi l'informazione prodotta dall'Agente 1 e la scrivi in una frase in italiano, indicando solo giorno e mese, ore e minuti?\"),\n",
    "])"
   ]
  },
  {
   "cell_type": "markdown",
   "id": "7cb90658",
   "metadata": {},
   "source": [
    "Un agente con due richieste. "
   ]
  },
  {
   "cell_type": "code",
   "execution_count": null,
   "id": "63d2316f",
   "metadata": {},
   "outputs": [
    {
     "data": {
      "text/markdown": [
       "---\n",
       "**Agente**: 7.630960002380548"
      ],
      "text/plain": [
       "<IPython.core.display.Markdown object>"
      ]
     },
     "metadata": {},
     "output_type": "display_data"
    },
    {
     "data": {
      "text/markdown": [
       "---\n",
       "**Agente**: 19.41053941541571"
      ],
      "text/plain": [
       "<IPython.core.display.Markdown object>"
      ]
     },
     "metadata": {},
     "output_type": "display_data"
    }
   ],
   "source": [
    "context=Context()\n",
    "MyAgent(\"Agente\", context, tools=[agenttools.generate_random_number],\n",
    "    role_and_skills=\"Sei un operatore incaricato di generare numeri casuali.\")\n",
    "MyManager(\"Manager\", context).sequence([\n",
    "    (\"Agente\", [\"Puoi generare un numero casuale tra 1 e 10?\", \"Puoi generare un numero casuale tra 19 e 20?\"])\n",
    "])"
   ]
  },
  {
   "cell_type": "markdown",
   "id": "e905e9e5",
   "metadata": {},
   "source": [
    "Un agente con una richiesta ripetuta."
   ]
  },
  {
   "cell_type": "code",
   "execution_count": 10,
   "id": "114ae3fa",
   "metadata": {},
   "outputs": [
    {
     "data": {
      "text/markdown": [
       "---\n",
       "**Agente**: 5.1614811420086895"
      ],
      "text/plain": [
       "<IPython.core.display.Markdown object>"
      ]
     },
     "metadata": {},
     "output_type": "display_data"
    },
    {
     "data": {
      "text/markdown": [
       "---\n",
       "**Agente**: 4.089941380432583"
      ],
      "text/plain": [
       "<IPython.core.display.Markdown object>"
      ]
     },
     "metadata": {},
     "output_type": "display_data"
    }
   ],
   "source": [
    "context=Context()\n",
    "MyAgent(\"Agente\", context, tools=[agenttools.generate_random_number],\n",
    "    role_and_skills=\"Sei un operatore incaricato di generare numeri casuali.\")\n",
    "MyManager(\"Manager\", context).sequence([\n",
    "    (\"Agente\", \"Puoi generare un numero casuale tra 1 e 10?\", {\"action\": \"loop\", \"count\": 2})\n",
    "])"
   ]
  },
  {
   "cell_type": "markdown",
   "id": "bcc5eaf1",
   "metadata": {},
   "source": [
    "Un agente con una richiesta ripetuta in funzione del contenuto di un elenco di dati."
   ]
  },
  {
   "cell_type": "code",
   "execution_count": 11,
   "id": "1fd42a46",
   "metadata": {},
   "outputs": [
    {
     "data": {
      "text/markdown": [
       "---\n",
       "**Agente**: 1.7520369051563258"
      ],
      "text/plain": [
       "<IPython.core.display.Markdown object>"
      ]
     },
     "metadata": {},
     "output_type": "display_data"
    },
    {
     "data": {
      "text/markdown": [
       "---\n",
       "**Agente**: 3.362252036890696"
      ],
      "text/plain": [
       "<IPython.core.display.Markdown object>"
      ]
     },
     "metadata": {},
     "output_type": "display_data"
    }
   ],
   "source": [
    "context=Context()\n",
    "MyAgent(\"Agente\", context, tools=[agenttools.generate_random_number],\n",
    "    role_and_skills=\"Sei un operatore incaricato di generare numeri casuali.\")\n",
    "MyManager(\"Manager\", context).sequence([\n",
    "    (\"Agente\", \"Puoi generare un numero casuale tra i due numeri specificati?\", {\"action\": \"loop\", \"data\": [(1, 2), (3, 4)]})\n",
    "])"
   ]
  },
  {
   "cell_type": "markdown",
   "id": "4d0bc23b",
   "metadata": {},
   "source": [
    "Due agenti, con il secondo con una richiesta ripetuta in funzione del risultato della richiesta al primo agente."
   ]
  },
  {
   "cell_type": "code",
   "execution_count": 13,
   "id": "5e9d11a2",
   "metadata": {},
   "outputs": [
    {
     "data": {
      "text/markdown": [
       "---\n",
       "**Agente 1**: 3.4922785308589495\n",
       "\n",
       "---\n",
       "**Agente 2**: { \"number\": 3.49 }\n",
       "\n",
       "---\n",
       "**Agente 2**: { \"number\": 3.492 }\n",
       "\n",
       "---\n",
       "**Agente 2**: { \"number\": 3.4922 }\n"
      ],
      "text/plain": [
       "<IPython.core.display.Markdown object>"
      ]
     },
     "metadata": {},
     "output_type": "display_data"
    }
   ],
   "source": [
    "context=Context()\n",
    "MyAgent(\"Agente 1\", context, tools=[agenttools.generate_random_number],\n",
    "    role_and_skills=\"Sei un operatore incaricato di generare numeri casuali.\")\n",
    "MyAgent(\"Agente 2\", context, response_format=agentformats.decimal_number_schema,\n",
    "    role_and_skills=\"Sei un operatore incaricato di rispondere alle domande che ricevi, rispettando le condizioni indicate sul formato della risposta.\")\n",
    "MyManager(\"Manager\", context).sequence([\n",
    "    (\"Agente 1\", \"Puoi generare un numero casuale tra 1 e 10?\"),\n",
    "    (\"Agente 2\", \"Puoi arrotondare numero prodotto dall'Agente 1 al numero di cifre decimali specificato?\", {\"action\": \"loop\", \"data\": [2, 3, 4]}),\n",
    "])"
   ]
  },
  {
   "cell_type": "markdown",
   "id": "7a03395e",
   "metadata": {},
   "source": [
    "Un agente con due richieste successive, la seconda ripetuta in funzione del risultato della precedente."
   ]
  },
  {
   "cell_type": "code",
   "execution_count": 14,
   "id": "911bbc62",
   "metadata": {},
   "outputs": [
    {
     "data": {
      "text/markdown": [
       "---\n",
       "**Agente**: ['uno.txt', 'due.txt']"
      ],
      "text/plain": [
       "<IPython.core.display.Markdown object>"
      ]
     },
     "metadata": {},
     "output_type": "display_data"
    },
    {
     "data": {
      "text/markdown": [
       "---\n",
       "**Agente**: questo è il contenuto del file 'uno.txt'\n"
      ],
      "text/plain": [
       "<IPython.core.display.Markdown object>"
      ]
     },
     "metadata": {},
     "output_type": "display_data"
    },
    {
     "data": {
      "text/markdown": [
       "---\n",
       "**Agente**: questo è il contenuto del file 'due.txt'\n"
      ],
      "text/plain": [
       "<IPython.core.display.Markdown object>"
      ]
     },
     "metadata": {},
     "output_type": "display_data"
    }
   ],
   "source": [
    "context = Context()\n",
    "MyAgent(\"Agente\", context, tools=[agenttools.list_files, agenttools.read_file],\n",
    "    role_and_skills=\"Sei un operatore incaricato di cercare informazione nel file system locale.\")\n",
    "MyManager(\"Manager\", context).sequence([\n",
    "    (\"Agente\", \"Puoi elencare i files contenuti nella directory /home/lucamari/prova?\"),\n",
    "    (\"Agente\", \"Puoi mostrare il contenuto del file specificato, nella stessa directory?\", {\"action\": \"loop\", \"data\": \"last_result\"})\n",
    "])"
   ]
  }
 ],
 "metadata": {
  "kernelspec": {
   "display_name": ".venv",
   "language": "python",
   "name": "python3"
  },
  "language_info": {
   "codemirror_mode": {
    "name": "ipython",
    "version": 3
   },
   "file_extension": ".py",
   "mimetype": "text/x-python",
   "name": "python",
   "nbconvert_exporter": "python",
   "pygments_lexer": "ipython3",
   "version": "3.13.2"
  }
 },
 "nbformat": 4,
 "nbformat_minor": 5
}
