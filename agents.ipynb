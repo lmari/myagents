{
 "cells": [
  {
   "cell_type": "markdown",
   "id": "e4354e77",
   "metadata": {},
   "source": [
    "## Esempi semplici di architetture multi-agenti"
   ]
  },
  {
   "cell_type": "code",
   "execution_count": 1,
   "id": "3f60bbf4",
   "metadata": {},
   "outputs": [],
   "source": [
    "from agents import Context, MyAgent\n",
    "import agentformats\n",
    "import agenttools"
   ]
  },
  {
   "cell_type": "markdown",
   "id": "4946e10c",
   "metadata": {},
   "source": [
    "### Agenti solo conversazionali\n",
    "\n",
    "Un solo agente con tutti i parametri di default."
   ]
  },
  {
   "cell_type": "code",
   "execution_count": 2,
   "id": "e1cc0dfb",
   "metadata": {},
   "outputs": [
    {
     "data": {
      "text/markdown": [
       "\n",
       "\n",
       "---\n",
       "**Agente**: Mi chiamo Gemma, un modello linguistico di grandi dimensioni creato dal team di Google DeepMind."
      ],
      "text/plain": [
       "<IPython.core.display.Markdown object>"
      ]
     },
     "metadata": {},
     "output_type": "display_data"
    }
   ],
   "source": [
    "MyAgent(\"Agente\", Context(),\n",
    "    role_and_skills=\"Rispondi in italiano alle richieste che ricevi.\").do(\"Come ti chiami?\")"
   ]
  },
  {
   "cell_type": "markdown",
   "id": "a1bbe845",
   "metadata": {},
   "source": [
    "Un solo agente, ma con la dichiarazione esplicita dei parametri del contesto e debug attivo (mantenendo lo stesso contesto per richieste successive si vede che il contenuto della conversazione viene mantenuto nella _context window_)."
   ]
  },
  {
   "cell_type": "code",
   "execution_count": 4,
   "id": "2de55f54",
   "metadata": {},
   "outputs": [
    {
     "data": {
      "text/markdown": [
       "\n",
       "\n",
       " `DEBUG: [messages in user request] [{'role': 'system', 'content': 'Rispondi in italiano alle richieste che ricevi.'}, {'role': 'user', 'content': 'Come ti chiami?'}]`\n",
       "\n",
       "---\n",
       "**Agente**: Mi chiamo Gemma. Sono un modello linguistico di grandi dimensioni creato dal team di Google DeepMind.\n",
       "\n",
       "\n",
       " `DEBUG: [messages in user request] [{'role': 'system', 'content': 'Rispondi in italiano alle richieste che ricevi.'}, {'role': 'user', 'content': 'Come ti chiami?'}, {'role': 'assistant', 'agentname': 'Agente', 'content': 'Mi chiamo Gemma. Sono un modello linguistico di grandi dimensioni creato dal team di Google DeepMind.\\n'}, {'role': 'user', 'content': 'Quanti anni hai?'}]`\n",
       "\n",
       "---\n",
       "**Agente**: Essendo un modello linguistico, non ho un'età nel senso tradizionale del termine. Sono stato addestrato da Google e il mio sviluppo è in corso continuamente. La mia versione attuale è stata rilasciata a partire dal 2023. Quindi potrei dire che \"esisto\" da allora, ma non ho anni come una persona!\n"
      ],
      "text/plain": [
       "<IPython.core.display.Markdown object>"
      ]
     },
     "metadata": {},
     "output_type": "display_data"
    }
   ],
   "source": [
    "import default\n",
    "context = Context(output_channel=\"stream\", output_format=\"markdown\")\n",
    "agent = MyAgent(\"Agente\", context=context,\n",
    "    base_url=default.base_url, model=default.model,\n",
    "    role_and_skills=\"Rispondi in italiano alle richieste che ricevi.\")\n",
    "agent.do(\"Come ti chiami?\", debug=True)\n",
    "agent.do(\"Quanti anni hai?\", debug=True)"
   ]
  },
  {
   "cell_type": "markdown",
   "id": "9e6f1511",
   "metadata": {},
   "source": [
    "Tre agenti diversi che interagiscono."
   ]
  },
  {
   "cell_type": "code",
   "execution_count": null,
   "id": "2662b91f",
   "metadata": {},
   "outputs": [
    {
     "data": {
      "text/markdown": [
       "\n",
       "\n",
       "---\n",
       "**Agente 1**: Certo! Ecco il nome di cinque nazioni europee:\n",
       "\n",
       "1.  Italia\n",
       "2.  Francia\n",
       "3.  Germania\n",
       "4.  Spagna\n",
       "5.  Regno Unito \n",
       "\n",
       "Hai altre domande su questo argomento o vuoi che ti fornisca"
      ],
      "text/plain": [
       "<IPython.core.display.Markdown object>"
      ]
     },
     "metadata": {},
     "output_type": "display_data"
    }
   ],
   "source": [
    "context = Context()\n",
    "agent1 = MyAgent(\"Agente 1\", context, role_and_skills=\"Rispondi in italiano alle richieste che ricevi.\")\n",
    "agent2 = MyAgent(\"Agente 2\", context, role_and_skills=\"Rispondi in inglese alle richieste che ricevi.\")\n",
    "agent3 = MyAgent(\"Agente 3\", context, role_and_skills=\"Rispondi in francese alle richieste che ricevi.\")\n",
    "agent1.do(\"Conosci il nome di cinque nazioni europee?\")\n",
    "agent2.do(\"E tu conosci il nome di tre nazioni europee diverse da quelle già indicate?\")\n",
    "agent3.do(\"E tu conosci il nome di quattro nazioni europee diverse da tutte quelle già indicate?\")"
   ]
  },
  {
   "cell_type": "markdown",
   "id": "5254adcd",
   "metadata": {},
   "source": [
    "### Agenti con output strutturato\n",
    "\n",
    "Un agente che risponde con output strutturato dichiarato per default, dunque per tutte le richieste."
   ]
  },
  {
   "cell_type": "code",
   "execution_count": 4,
   "id": "7320f4d9",
   "metadata": {},
   "outputs": [
    {
     "data": {
      "text/markdown": [
       "\n",
       "\n",
       "---\n",
       "**Agente**: {\n",
       "\"list\": [\"Italia\", \"Francia\", \"Germania\", \"Spagna\", \"Regno Unito\"]\n",
       "}\n"
      ],
      "text/plain": [
       "<IPython.core.display.Markdown object>"
      ]
     },
     "metadata": {},
     "output_type": "display_data"
    }
   ],
   "source": [
    "agent = MyAgent(\"Agente\", Context(), response_format=agentformats.List_,\n",
    "    role_and_skills=\"Rispondi in italiano alle richieste che ricevi.\")\n",
    "agent.do(\"Conosci il nome di cinque nazioni europee?\")"
   ]
  },
  {
   "cell_type": "markdown",
   "id": "ab0db781",
   "metadata": {},
   "source": [
    "Un agente che risponde con output strutturato dichiarato sulla richiesta specifica e validazione del formato della risposta."
   ]
  },
  {
   "cell_type": "code",
   "execution_count": 5,
   "id": "63b5767f",
   "metadata": {},
   "outputs": [
    {
     "data": {
      "text/markdown": [
       "\n",
       "\n",
       "---\n",
       "**Agente**: {\n",
       "\"list\": [\n",
       "    \"Giappone\",\n",
       "    \"Cina\",\n",
       "    \"India\",\n",
       "    \"Corea del Sud\"\n",
       "]\n",
       "}\n"
      ],
      "text/plain": [
       "<IPython.core.display.Markdown object>"
      ]
     },
     "metadata": {},
     "output_type": "display_data"
    },
    {
     "data": {
      "text/markdown": [
       "\n",
       "\n",
       " `VALIDATE: Response valid!`"
      ],
      "text/plain": [
       "<IPython.core.display.Markdown object>"
      ]
     },
     "metadata": {},
     "output_type": "display_data"
    }
   ],
   "source": [
    "agent = MyAgent(\"Agente\", Context(),\n",
    "    role_and_skills=\"Rispondi in italiano alle richieste che ricevi.\")\n",
    "agent.do(\"Conosci il nome di quattro nazioni asiatiche?\", response_format=agentformats.List_, validate=True)"
   ]
  },
  {
   "cell_type": "markdown",
   "id": "8e8dba92",
   "metadata": {},
   "source": [
    "Un agente che risponde con output strutturato dichiarato direttamente nel contesto."
   ]
  },
  {
   "cell_type": "code",
   "execution_count": 6,
   "id": "6086287e",
   "metadata": {},
   "outputs": [
    {
     "data": {
      "text/markdown": [
       "\n",
       "\n",
       "---\n",
       "**Agente**: {\"list\": [\n",
       "  \t[\n",
       "  \t\t\"Brasile\",\n",
       "  \t\t\"Brasilia\"\n",
       "  \t],\n",
       "  \t[\n",
       "  \t\t\"Argentina\",\n",
       "  \t\t\"Buenos Aires\"\n",
       "  \t],\n",
       "  \t[\n",
       "  \t\t\"Colombia\",\n",
       "  \t\t\"Bogotá\"\n",
       "  \t],\n",
       "  \t[\n",
       "  \t\t\"Perù\",\n",
       "  \t\t\"Lima\"\n",
       "  \t],\n",
       "  \t[\n",
       "  \t\t\"Cile\",\n",
       "  \t\t\"Santiago\"\n",
       "  \t]\n",
       "]}"
      ],
      "text/plain": [
       "<IPython.core.display.Markdown object>"
      ]
     },
     "metadata": {},
     "output_type": "display_data"
    }
   ],
   "source": [
    "from pydantic import BaseModel, Field\n",
    "from typing import List, Tuple\n",
    "\n",
    "class ElencoDiNazioni(BaseModel):\n",
    "    \"\"\"Una lista di coppie di stringhe, ciascuna relativa a una nazione.\"\"\"\n",
    "    list: List[Tuple[str, str]] = Field(..., \n",
    "        description=\"Una lista di coppie, dove ogni coppia contiene il nome di una nazione e il nome della sua capitale.\"\n",
    "    )\n",
    "\n",
    "MyAgent(\"Agente\", context:=Context(), response_format=ElencoDiNazioni,\n",
    "    role_and_skills=\"Rispondi sempre in italiano.\").do(\"Indica cinque nazioni sudamericane con le rispettive capitali.\")"
   ]
  },
  {
   "cell_type": "markdown",
   "id": "aac49415",
   "metadata": {},
   "source": [
    "Un esempio di semplice elaborazione dei dati in formato JSON prodotti."
   ]
  },
  {
   "cell_type": "code",
   "execution_count": 7,
   "id": "dbd92dc1",
   "metadata": {},
   "outputs": [
    {
     "name": "stdout",
     "output_type": "stream",
     "text": [
      "Brasilia\n",
      "Buenos Aires\n",
      "Bogotá\n",
      "Lima\n",
      "Santiago\n"
     ]
    }
   ],
   "source": [
    "import json\n",
    "risposta = json.loads(context.last_result)['list'] # type: ignore\n",
    "for nazione, capitale in risposta:\n",
    "    print(f\"{capitale}\")"
   ]
  },
  {
   "cell_type": "markdown",
   "id": "cca7b240",
   "metadata": {},
   "source": [
    "Lo schema JSON generato automaticamente dalla struttura dati Python."
   ]
  },
  {
   "cell_type": "code",
   "execution_count": 10,
   "id": "5fd6ca73",
   "metadata": {},
   "outputs": [
    {
     "data": {
      "text/plain": [
       "{'type': 'json_schema',\n",
       " 'json_schema': {'schema': {'description': 'Una lista di coppie di stringhe, ciascuna relativa a una nazione.',\n",
       "   'properties': {'list': {'description': 'Una lista di coppie, dove ogni coppia contiene il nome di una nazione e il nome della sua capitale.',\n",
       "     'items': {'maxItems': 2,\n",
       "      'minItems': 2,\n",
       "      'prefixItems': [{'type': 'string'}, {'type': 'string'}],\n",
       "      'type': 'array'},\n",
       "     'title': 'List',\n",
       "     'type': 'array'}},\n",
       "   'required': ['list'],\n",
       "   'title': 'ElencoDiNazioni',\n",
       "   'type': 'object'},\n",
       "  'strict': True}}"
      ]
     },
     "execution_count": 10,
     "metadata": {},
     "output_type": "execute_result"
    }
   ],
   "source": [
    "from agents import _get_format_metadata\n",
    "_get_format_metadata(ElencoDiNazioni)"
   ]
  },
  {
   "cell_type": "markdown",
   "id": "199a77e6",
   "metadata": {},
   "source": [
    "### Agenti che fanno riferimento a funzioni\n",
    "\n",
    "Un agente che fa riferimento a una funzione per produrre la risposta."
   ]
  },
  {
   "cell_type": "code",
   "execution_count": 11,
   "id": "b661b953",
   "metadata": {},
   "outputs": [
    {
     "data": {
      "text/markdown": [
       "---\n",
       "**Agente**: 11.40390310159012"
      ],
      "text/plain": [
       "<IPython.core.display.Markdown object>"
      ]
     },
     "metadata": {},
     "output_type": "display_data"
    }
   ],
   "source": [
    "agent = MyAgent(\"Agente\", Context(), tools=[agenttools.generate_random_number],\n",
    "    role_and_skills=\"Sei incaricato di generare numeri casuali.\")\n",
    "agent.do(\"Puoi generare un numero casuale tra 10 e 12?\")"
   ]
  },
  {
   "cell_type": "markdown",
   "id": "df0ff1bc",
   "metadata": {},
   "source": [
    "Due esempi, ognuno di due agenti, il primo che chiama una funzione e il secondo che opera sul risultato del primo."
   ]
  },
  {
   "cell_type": "code",
   "execution_count": 12,
   "id": "feb9e4ae",
   "metadata": {},
   "outputs": [
    {
     "data": {
      "text/markdown": [
       "---\n",
       "**Agente 1**: 2025-06-05 14:23:36.016387+02:00\n",
       "\n",
       "---\n",
       "**Agente 2**: Oggi è il 5 giugno e sono le 14:23.\n"
      ],
      "text/plain": [
       "<IPython.core.display.Markdown object>"
      ]
     },
     "metadata": {},
     "output_type": "display_data"
    }
   ],
   "source": [
    "context = Context()\n",
    "agent1 = MyAgent(\"Agente 1\", context, tools=[agenttools.get_current_day_and_time],\n",
    "    role_and_skills=\"Sei incaricato di gestire l'orario.\")\n",
    "agent2 = MyAgent(\"Agente 2\", context,\n",
    "    role_and_skills=\"Sei incaricato di cercare di rispondere in buon italiano alle domande che ricevi.\")\n",
    "agent1.do(\"Che ore sono?\")\n",
    "agent2.do(\"Prendi l'informazione prodotta dall'Agente 1 e la scrivi in una frase in italiano, indicando solo giorno e mese, ore e minuti?\")"
   ]
  },
  {
   "cell_type": "code",
   "execution_count": null,
   "id": "f1914aa4",
   "metadata": {},
   "outputs": [
    {
     "data": {
      "text/markdown": [
       "---\n",
       "**Agente 1**: 176.28571428571428\n",
       "\n",
       "---\n",
       "**Agente 2**: 176.2857"
      ],
      "text/plain": [
       "<IPython.core.display.Markdown object>"
      ]
     },
     "metadata": {},
     "output_type": "display_data"
    }
   ],
   "source": [
    "context = Context()\n",
    "agent1 = MyAgent(\"Agente 1\", context, tools=[agenttools.evaluate_expression],\n",
    "    role_and_skills=\"Sei incaricato di scrivere e poi calcolare espressioni matematiche.\")\n",
    "agent2 = MyAgent(\"Agente 2\", context,\n",
    "    role_and_skills=\"Sei incaricato di rispondere in buon italiano alle domande che ricevi.\")\n",
    "agent1.do(\"Quanto vale 1234 diviso 7?\")\n",
    "agent2.do(\"Prendi il numero prodotto dall'Agente 1 e lo arrotondi a 4 cifre decimali?\")"
   ]
  },
  {
   "cell_type": "markdown",
   "id": "5719141e",
   "metadata": {},
   "source": [
    "Un agente che può chiamare due funzioni per produrre la risposta, e decide per ogni richiesta quale funzione chiamare."
   ]
  },
  {
   "cell_type": "code",
   "execution_count": null,
   "id": "92165e9d",
   "metadata": {},
   "outputs": [
    {
     "data": {
      "text/markdown": [
       "---\n",
       "**Agente**: ['one.txt', 'two.txt']"
      ],
      "text/plain": [
       "<IPython.core.display.Markdown object>"
      ]
     },
     "metadata": {},
     "output_type": "display_data"
    },
    {
     "data": {
      "text/markdown": [
       "---\n",
       "**Agente**: This is the content of the file 'one.txt'.\n"
      ],
      "text/plain": [
       "<IPython.core.display.Markdown object>"
      ]
     },
     "metadata": {},
     "output_type": "display_data"
    }
   ],
   "source": [
    "agent = MyAgent(\"Agente\", Context(), tools=[agenttools.list_files, agenttools.read_file],\n",
    "    role_and_skills=\"Sei incaricato di cercare informazione nel file system locale.\")\n",
    "agent.do(\"Puoi elencare i files contenuti nella directory /home/lucamari/trials?\")\n",
    "agent.do(\"Puoi mostrare il contenuto del primo file che hai elencato?\")"
   ]
  },
  {
   "cell_type": "markdown",
   "id": "851ba562",
   "metadata": {},
   "source": [
    "Un agente che, in modo autonomo, chiama ripetutamente una funzione e poi usa i risultati per produrre la risposta."
   ]
  },
  {
   "cell_type": "code",
   "execution_count": 17,
   "id": "5c2f4a6c",
   "metadata": {},
   "outputs": [
    {
     "data": {
      "text/markdown": [
       "---\n",
       "**Agente**: ['0.08219042097326601', '5.7250513694885905']"
      ],
      "text/plain": [
       "<IPython.core.display.Markdown object>"
      ]
     },
     "metadata": {},
     "output_type": "display_data"
    },
    {
     "data": {
      "text/markdown": [
       "---\n",
       "**Agente**: 5.807241790461856"
      ],
      "text/plain": [
       "<IPython.core.display.Markdown object>"
      ]
     },
     "metadata": {},
     "output_type": "display_data"
    }
   ],
   "source": [
    "agent = MyAgent(\"Agente\", Context(), tools=[agenttools.generate_random_number, agenttools.evaluate_expression],\n",
    "    role_and_skills=\"Sei un operatore incaricato di generare numeri casuali e di fare semplici conti di aritmetica.\")\n",
    "agent.do(\"Puoi generare un numero casuale tra 0 e 1 e un numero casuale tra 5 e 6?\")\n",
    "agent.do(\"Qual è la somma dei due numeri casuali che hai generato?\")"
   ]
  },
  {
   "cell_type": "markdown",
   "id": "090cbe62",
   "metadata": {},
   "source": [
    "### I tre \"livelli di esecuzione\" di un agente che usa funzioni\n",
    "\n",
    "I modelli di linguaggio non sono in sé in grado di eseguire funzioni. "
   ]
  },
  {
   "cell_type": "code",
   "execution_count": 13,
   "id": "8b7ebb21",
   "metadata": {},
   "outputs": [
    {
     "data": {
      "text/markdown": [
       "\n",
       "\n",
       "---\n",
       "**Agente**: Non ho un orologio e non so che ora è. Sono solo un modello linguistico! 😊\n"
      ],
      "text/plain": [
       "<IPython.core.display.Markdown object>"
      ]
     },
     "metadata": {},
     "output_type": "display_data"
    }
   ],
   "source": [
    "MyAgent(\"Agente\", Context(),\n",
    "    role_and_skills=\"Sei incaricato di gestire l'orario. /no_think\").do(\"Che ore sono?\")"
   ]
  },
  {
   "cell_type": "markdown",
   "id": "dbe71392",
   "metadata": {},
   "source": [
    "Livello base: il modello di linguaggio opera come traduttore dalla richiesta dell'utente a un JSON."
   ]
  },
  {
   "cell_type": "code",
   "execution_count": 14,
   "id": "a7de4d5c",
   "metadata": {},
   "outputs": [
    {
     "data": {
      "text/markdown": [
       "---\n",
       "**Agente**: ChatCompletionMessageToolCall(id='867515629', function=Function(arguments='{\"zone\":\"Europe/London\"}', name='get_current_day_and_time'), type='function')"
      ],
      "text/plain": [
       "<IPython.core.display.Markdown object>"
      ]
     },
     "metadata": {},
     "output_type": "display_data"
    }
   ],
   "source": [
    "MyAgent(\"Agente\", context:=Context(), tools=[agenttools.get_current_day_and_time],\n",
    "    role_and_skills=\"Sei incaricato di gestire l'orario.\").do(\"Che ore sono a Londra? /no_think\", tool_handling=\"schema\")"
   ]
  },
  {
   "cell_type": "markdown",
   "id": "167d8c93",
   "metadata": {},
   "source": [
    "Livello intermedio: in aggiunta al livello base, il framework esegue la funzione e restituisce il risultato."
   ]
  },
  {
   "cell_type": "code",
   "execution_count": 15,
   "id": "3561853b",
   "metadata": {},
   "outputs": [
    {
     "data": {
      "text/markdown": [
       "---\n",
       "**Agente**: 2025-06-05 13:26:12.956708+01:00"
      ],
      "text/plain": [
       "<IPython.core.display.Markdown object>"
      ]
     },
     "metadata": {},
     "output_type": "display_data"
    }
   ],
   "source": [
    "MyAgent(\"Agente\", context:=Context(), tools=[agenttools.get_current_day_and_time],\n",
    "    role_and_skills=\"Sei incaricato di gestire l'orario.\").do(\"Che ore sono a Londra?\", tool_handling=\"standard\")"
   ]
  },
  {
   "cell_type": "markdown",
   "id": "d4c718fe",
   "metadata": {},
   "source": [
    "Livello avanzato: in aggiunta al livello intermedio, il framework chiama nuovamente il modello e gli fa produrre una risposta in linguaggio naturale."
   ]
  },
  {
   "cell_type": "code",
   "execution_count": 19,
   "id": "660a393b",
   "metadata": {},
   "outputs": [
    {
     "data": {
      "text/markdown": [
       "---\n",
       "**Agente**: <think>\n",
       "Okay, the user asked what time it is in London. I called the get_current_day_and_time function with the zone set to Europe/London. The response came back as 2025-06-05 13:28:09.035552+01:00. \n",
       "\n",
       "First, I need to parse this date and time. The date is June 5, 2ed25, and the time is 1:28 PM according to the +01:00 timezone. Wait, but London is in the UTC+0 timezone during standard time and UTC+1 during daylight saving time. Let me check if the current time is indeed in the correct timezone.\n",
       "\n",
       "The response shows +01:00, which suggests that daylight saving time is active. That makes sense for London in June. So the time given is accurate. \n",
       "\n",
       "Now, I need to present this information clearly. The user might want the time in a more readable format. Let me convert the timestamp into a human-readable format. The date is June 5, 2025, and the time is 1:28 PM. The timezone is GMT+1.\n",
       "\n",
       "I should state the current time in London as 1:28 PM on June 5, 2025, in the GMT+1 timezone. Make sure to mention the date and time clearly. Also, since the user asked specifically for London, I don't need to mention Italy or any other location. Keep the answer straightforward and concise.\n",
       "</think>\n",
       "\n",
       "Le ore attuali a Londra sono **13:28** del **5 giugno 2025** (fuso orario GMT+1)."
      ],
      "text/plain": [
       "<IPython.core.display.Markdown object>"
      ]
     },
     "metadata": {},
     "output_type": "display_data"
    }
   ],
   "source": [
    "MyAgent(\"Agente\", context:=Context(), tools=[agenttools.get_current_day_and_time],\n",
    "    role_and_skills=\"Sei incaricato di gestire l'orario.\").do(\"Che ore sono a Londra?\", tool_handling=\"expanded\")"
   ]
  },
  {
   "cell_type": "markdown",
   "id": "46beff20",
   "metadata": {},
   "source": [
    "Un esempio un poco più complesso, con produzione finale di una presentazione pptx."
   ]
  },
  {
   "cell_type": "code",
   "execution_count": 21,
   "id": "79e3aa93",
   "metadata": {},
   "outputs": [
    {
     "data": {
      "text/markdown": [
       "---\n",
       "**Agente 1**: Error executing function web_search: https://lite.duckduckgo.com/lite/ 202 Ratelimit\n",
       "\n",
       "---\n",
       "**Agente 2**: <think>\n",
       "\n",
       "</think>\n",
       "\n",
       "# Santiago Ramon-y-Cajal\n",
       "\n",
       "Santiago Ramon-y-Cajal fu un neuroscienziato spagnolo, considerato uno dei fondatori della neuroscienza moderna.\n",
       "\n",
       "# Contributi Scientifici\n",
       "\n",
       "Ramon-y-Cajal è noto per la sua teoria del neurone singolo, che affermava che il cervello è composto da unità separate chiamate neuroni. Questa idea rivoluzionò la comprensione della struttura e della funzione del sistema nervoso.\n",
       "\n",
       "# Riconoscimenti\n",
       "\n",
       "Ramon-y-Cajal ricevette la Medaglia Nobel per la Fisica nel 1906, condivisa con Giuseppe Bertrand. È considerato uno dei maggiori neuroscienziati di tutti i tempi."
      ],
      "text/plain": [
       "<IPython.core.display.Markdown object>"
      ]
     },
     "metadata": {},
     "output_type": "display_data"
    },
    {
     "data": {
      "text/markdown": [
       "---\n",
       "**Agente 3**: slides.pptx"
      ],
      "text/plain": [
       "<IPython.core.display.Markdown object>"
      ]
     },
     "metadata": {},
     "output_type": "display_data"
    }
   ],
   "source": [
    "context=Context()\n",
    "agent1 = MyAgent(\"Agente 1\", context, tools=[agenttools.web_search],\n",
    "    role_and_skills=\"Sei un operatore incaricato di fare ricerche nel web. /no_think\")\n",
    "agent2 = MyAgent(\"Agente 2\", context,\n",
    "    role_and_skills=\"\"\"Sei un operatore incaricato di rispondere in buon italiano alle domande che ricevi\n",
    "        formattando la risposta in Markdown, senza alcuna instestazione, commento o spiegazione,\n",
    "        e organizzando il testo in modo che possa essere facilmente convertito in una presentazione,\n",
    "        in particolare con un titolo di livello 1 (#) per ogni nuova slide,\n",
    "        e considerando che ogni slide dovrebbe contenere una quantità limitata di testo.  /no_think\"\"\")\n",
    "agent3 = MyAgent(\"Agente 3\", context, tools=[agenttools.markdown_to_pptx],\n",
    "    role_and_skills=\"Sei un operatore incaricato di convertire in PowerPoint dei testi in formato Markdown. /no_think\")\n",
    "agent1.do(\"Chi era Santiago Ramon-y-Cajal?\")\n",
    "agent2.do(\"Scrivi un testo di sintesi nell'informazione raccolta dall'Agente 1 e lo formatti in Markdown come specificato?\")\n",
    "agent3.do(\"Crei una presentazione in PowerPoint a partire dal testo prodotto dall'Agente 2?\")"
   ]
  },
  {
   "cell_type": "markdown",
   "id": "552edc2e",
   "metadata": {},
   "source": [
    "Un esempio di \"lavoro cooperativo\" di tre agenti."
   ]
  },
  {
   "cell_type": "code",
   "execution_count": null,
   "id": "af956248",
   "metadata": {},
   "outputs": [
    {
     "data": {
      "text/markdown": [
       "---\n",
       "**Creativo**: Assolutamente! Ecco quattro proposte di titoli per un seminario sui cambiamenti antropologici indotti dalla GenAI, con la relativa giustificazione del perché ciascuno potrebbe essere efficace:\n",
       "\n",
       "**1. Titolo:** \"L'Uomo Rivisto: Antropologia e l'Era della Generative Intelligence\"\n",
       "\n",
       "*   **Giustificazione:** Questo titolo è audace e provocatorio. “L’Uomo Rivisto” suggerisce un cambiamento fondamentale nella nostra comprensione di cosa significa essere umani, in relazione a una tecnologia che sta ridefinendo la creatività, il lavoro e l'interazione sociale. L'aggiunta di \"Antropologia\" chiarisce immediatamente lo scopo del seminario, mentre \"Era della Generative Intelligence\" è un termine tecnico riconoscibile che crea un senso di urgenza e rilevanza per il pubblico.\n",
       "\n",
       "**2. Titolo:** \"Oltre l’Algoritmo: Antropologia, Intelligenza Artificiale Generativa e il Futuro dell'Identità\"\n",
       "\n",
       "*   **Giustificazione:** Questo titolo affronta direttamente una delle preoccupazioni centrali: come l'IA generativa sta rimodellando la nostra identità personale e collettiva. \"Oltre l’Algoritmo\" implica che ci sarà qualcosa di più profondo da esplorare rispetto alla semplice analisi tecnica dell'IA, invitando a un approccio antropologico. La frase finale – “Futuro dell’Identità” – è potente e attrae l'attenzione su una delle conseguenze più rilevanti per le società umane.\n",
       "\n",
       "**3. Titolo:** \"Dall’Arte alla Realtà: Antropologia e le Nuove Forme di Cultura Generativa\"\n",
       "\n",
       "*   **Giustificazione:** Questo titolo si concentra sull'aspetto culturale dell'IA generativa, evidenziando come questa tecnologia stia trasformando il modo in cui creiamo arte, musica, letteratura e altre forme di espressione culturale. \"Dall’Arte alla Realtà” suggerisce un percorso che va dalle manifestazioni più estetiche a un impatto più ampio sulla nostra esperienza della realtà. “Cultura Generativa” è un termine chiave che cattura l'essenza del cambiamento in atto.\n",
       "\n",
       "**4. Titolo:** “La Macchina come Mediatore: Antropologia e le Implicazioni Sociali dell'Intelligenza Artificiale Generativa”\n",
       "\n",
       "*   **Giustificazione:** Questo titolo adotta una prospettiva più analitica, concentrandosi sul ruolo dell’IA generativa come mediatrice tra gli esseri umani. “La Macchina come Mediatore” suggerisce che l'IA non è solo uno strumento, ma un agente attivo nella nostra vita sociale e culturale. \"Implicazioni Sociali\" sottolinea la necessità di comprendere le conseguenze concrete di questa tecnologia sulla struttura delle nostre società.\n",
       "\n",
       "---\n",
       "\n",
       "**Note Aggiuntive per il Creativo dell’Organizzazione:**\n",
       "\n",
       "*   **Pubblico Target:** Questi titoli sono pensati per un pubblico che include antropologi, sociologi, esperti di tecnologia, studenti e chiunque sia interessato a esplorare le implicazioni sociali della GenAI.\n",
       "*   **Tono:** Ho cercato di bilanciare la serietà con un pizzico di curiosità e stimolo al pensiero critico.\n",
       "*   **Elemento Chiave:** Tutti i titoli sottolineano l'importanza dell'approccio antropologico per comprendere questi cambiamenti, evidenziando che non si tratta solo di una questione tecnica, ma di come queste tecnologie stanno influenzando la nostra umanità.\n",
       "\n",
       "Spero che queste proposte siano un buon punto di partenza! Fammi sapere se hai bisogno di ulteriori variazioni o idee.\n",
       "\n",
       "---\n",
       "**Analista**: Ottima domanda! Dopo aver valutato attentamente le opzioni, ritengo che i due titoli migliori siano:\n",
       "\n",
       "**1. \"L'Uomo Rivisto: Antropologia e l’Era della Generative Intelligence\"**\n",
       "\n",
       "**2. “Oltre l’Algoritmo: Antropologia, Intelligenza Artificiale Generativa e il Futuro dell’Identità”**\n",
       "\n",
       "Ecco la mia giustificazione dettagliata per questa scelta:\n",
       "\n",
       "**1. \"L'Uomo Rivisto: Antropologia e l’Era della Generative Intelligence\"**\n",
       "\n",
       "*   **Impatto e Risonanza:** Questo titolo ha una forza immediata e un'impronta significativa. L'uso di “Rivisto” implica un cambiamento profondo, una trasformazione fondamentale del nostro modo di pensare all’essere umano, il che cattura l'attenzione e genera curiosità.\n",
       "*   **Chiarezza dell’Obiettivo:** La combinazione con \"Antropologia\" è cruciale perché definisce immediatamente lo scopo del seminario. Non si tratta solo di tecnologia, ma di un’analisi da parte della disciplina più appropriata per studiare l'impatto umano.\n",
       "*   **Rilevanza per il Futuro:** “Era della Generative Intelligence” colloca il tema in un contesto contemporaneo e futuro, sottolineando la portata dell'innovazione tecnologica che stiamo affrontando.\n",
       "\n",
       "**2. “Oltre l’Algoritmo: Antropologia, Intelligenza Artificiale Generativa e il Futuro dell’Identità”**\n",
       "\n",
       "*   **Focus sulla Questione Centrale:** Questo titolo affronta direttamente una delle preoccupazioni più pressanti legate alla GenAI: come questa tecnologia sta rimodellando la nostra identità. L'identità è un concetto centrale nell'antropologia, quindi l'associazione con la disciplina è estremamente pertinente.\n",
       "*   **Invito al Pensiero Critico:** \"Oltre l’Algoritmo\" suggerisce che ci sia qualcosa di più profondo da esplorare rispetto alle mere analisi tecniche dell’IA. Questo incoraggia i partecipanti a riflettere sulle implicazioni culturali e sociali della tecnologia.\n",
       "*   **Connessione con il Futuro:** La frase finale – \"Futuro dell'Identità\" – stabilisce un orizzonte temporale chiaro e sottolinea l'urgenza di comprendere queste trasformazioni prima che siano troppo tardi.\n",
       "\n",
       "**Perché ho scelto questi due invece degli altri?**\n",
       "\n",
       "Mentre tutti i titoli sono validi, questi due offrono il miglior equilibrio tra:\n",
       "\n",
       "*   Chiarezza del focus antropologico\n",
       "*   Rilevanza per le questioni chiave sollevate dalla GenAI\n",
       "*   Potenziale per stimolare un dibattito critico e riflessivo\n",
       "\n",
       "Spero che questa giustificazione sia soddisfacente! Fammi sapere se hai altre domande o preferenze.\n",
       "\n",
       "---\n",
       "**Decisore**: Dopo aver rivalutato tutte le opzioni, ritengo che il titolo migliore sia:\n",
       "\n",
       "**“L'Uomo Rivisto: Antropologia e l’Era della Generative Intelligence”**\n",
       "\n",
       "Ecco la mia giustificazione dettagliata per questa scelta finale:\n",
       "\n",
       "*   **Forza del Messaggio:** Questo titolo ha una forza comunicativa immediata e potente. L'uso di “Rivisto” evoca un cambiamento fondamentale, un’alterazione profonda nella nostra comprensione dell’essere umano. Non è un semplice aggiornamento, ma una vera e propria revisione delle nostre categorie concettuali.\n",
       "*   **Chiarezza e Definizione:** La combinazione con \"Antropologia\" è assolutamente cruciale. Definisce immediatamente lo scopo del seminario: non si tratta solo di analizzare l'IA generativa come tecnologia, ma di studiarne le implicazioni per la natura umana attraverso la lente dell’antropologia.\n",
       "*   **Rilevanza e Prospettiva:** “Era della Generative Intelligence” colloca il tema in un contesto contemporaneo e futuro, sottolineando la portata dell'innovazione tecnologica che stiamo affrontando. Evita di concentrarsi esclusivamente sulle potenzialità positive dell’IA, riconoscendo implicitamente le sfide e i rischi.\n",
       "*   **Appeal Generale:** Il titolo è abbastanza ampio da attirare un pubblico diversificato – antropologi, sociologi, esperti di tecnologia, studenti – senza essere eccessivamente specifico per limitare l'interesse.\n",
       "\n",
       "**Perché ho scartato gli altri titoli?**\n",
       "\n",
       "Sebbene “Oltre l’Algoritmo…” sia un titolo stimolante e pertinente, il suo focus sulla \"identità\" potrebbe risultare troppo ristretto per un seminario che affronta una gamma così ampia di implicazioni antropologiche.  “La Macchina come Mediatore” era un po’ più tecnico e meno evocativo.\n",
       "\n",
       "**In sintesi:** “L'Uomo Rivisto…” è il titolo migliore perché offre la combinazione perfetta di forza, chiarezza, rilevanza e appeal per il pubblico target che cerchiamo di raggiungere. È un titolo che invita all’esplorazione, alla riflessione critica e alla comprensione profonda delle implicazioni dell'IA generativa sul futuro dell'umanità.\n",
       "\n",
       "Spero che questa decisione finale sia in linea con le tue aspettative!"
      ],
      "text/plain": [
       "<IPython.core.display.Markdown object>"
      ]
     },
     "metadata": {},
     "output_type": "display_data"
    }
   ],
   "source": [
    "context=Context()\n",
    "agent1 = MyAgent(\"Creativo\", context,\n",
    "    role_and_skills=\"Sei il creativo dell'organizzazione, incaricato di produrre idee interessanti per le richieste che ricevi, dandone anche una giustificazione.\")\n",
    "agent2 = MyAgent(\"Analista\", context,\n",
    "    role_and_skills=\"Sei l'analista dell'organizzazione, incaricato di studiare, commentare criticamente, e se occorre suggerire decisioni.\")\n",
    "agent3 = MyAgent(\"Decisore\", context,\n",
    "    role_and_skills=\"Sei il decisore dell'organizzazione, incaricato di decidere sulle proposte che ricevi.\")\n",
    "agent1.do(\"Proponi quattro titoli per un seminario sui possibili cambiamenti antropologici indotti dalla diffusione della GenAI.\")\n",
    "agent2.do(\"Scegli i due titoli che ti sembrano migliori e giustifica la tua scelta.\")\n",
    "agent3.do(\"Decidi il titolo che ti sembra migliore e giustifica la tua decisione.\")"
   ]
  }
 ],
 "metadata": {
  "kernelspec": {
   "display_name": ".venv",
   "language": "python",
   "name": "python3"
  },
  "language_info": {
   "codemirror_mode": {
    "name": "ipython",
    "version": 3
   },
   "file_extension": ".py",
   "mimetype": "text/x-python",
   "name": "python",
   "nbconvert_exporter": "python",
   "pygments_lexer": "ipython3",
   "version": "3.13.3"
  }
 },
 "nbformat": 4,
 "nbformat_minor": 5
}
