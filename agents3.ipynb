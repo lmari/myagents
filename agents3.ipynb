{
 "cells": [
  {
   "cell_type": "markdown",
   "id": "6cbb9838",
   "metadata": {},
   "source": [
    "## Esempi orchestrati, con controllo flessibile del manager, di architetture multi-agenti"
   ]
  },
  {
   "cell_type": "code",
   "execution_count": 1,
   "id": "cfce6fcd",
   "metadata": {},
   "outputs": [],
   "source": [
    "from agents import Context, MyAgent, MyManager"
   ]
  },
  {
   "cell_type": "code",
   "execution_count": null,
   "id": "6a8d351d",
   "metadata": {},
   "outputs": [
    {
     "data": {
      "text/markdown": [
       "---\n",
       "**Creativo**: Ecco l'idea per il titolo del seminario, tenendo conto dell'importanza di evocare sia la scienza che le implicazioni umane:\n",
       "\n",
       "**Titolo:** **\"L’Algoritmo e l’Uomo: Antropologia della Rivoluzione GenAI\"**\n",
       "\n",
       "**Motivazione:**\n",
       "\n",
       "*   **“L’Algoritmo”:**  Riconosce il cuore del tema – la GenAI – in modo diretto.\n",
       "*   **“e l’Uomo”:** Enfatizza l'aspetto antropologico, mettendo al centro l'esperienza e l'impatto sulla condizione umana.\n",
       "*   **\"Antropologia della Rivoluzione GenAI\":**  Definisce chiaramente il focus del seminario come un'analisi scientifica dei cambiamenti che la GenAI sta innescando nella nostra società.\n",
       "\n",
       "Spero questa idea sia di tuo gradimento!\n",
       "\n",
       "---\n",
       "**Analista**: Il titolo proposto è funzionale e chiaro nel delineare l'ambito del seminario. Tuttavia, mi sembra un po’ didascalico e forse eccessivamente formale per il tema che si affronta. L'enfasi sull' \"algoritmo\" rischia di relegare l'uomo a ruolo secondario. \n",
       "\n",
       "Valuterei comunque l'idea, ma con qualche riserva.\n",
       "\n",
       "---\n",
       "**Manager**: Non ancora. Suggerisco di esplorare titoli più evocativi che mettano in risalto l'impatto culturale della GenAI, magari con un focus sulla trasformazione dell'identità e delle relazioni sociali.\n",
       "\n",
       "---\n",
       "**Creativo**: Bene, questo è un ottimo punto di partenza! Proverò a generare alcune alternative più evocative, considerando il focus sull’identità e le relazioni sociali:\n",
       "\n",
       "*   **\"Generative Minds: Antropologia del Nuovo Umano\"** (Sottolinea la capacità della GenAI e l'impatto sulla nostra umanità)\n",
       "*   **“L'Eco dell'Algoritmo: Cambiamenti Sociali nell’Era GenAI”** (Evoca un senso di influenza diffusa e trasformazione)\n",
       "*   **\"Costruire con le Macchine: Identità e Relazioni nell'Epoca della GenAI\"** (Mette in luce il processo attivo di costruzione dell'identità)\n",
       "\n",
       "Cosa ne pensi di queste opzioni? Quale ti sembra più promettente o si allinea meglio con la direzione che vorresti dare al seminario?\n",
       "\n",
       "---\n",
       "**Analista**: Penso che “Generative Minds: Antropologia del Nuovo Umano” sia il titolo più robusto e immediatamente comprensibile. È conciso, evocativo e cattura l’essenza dell'analisi antropologica richiesta. \n",
       "\n",
       "Gli altri due sono validi, ma forse un po’ meno diretti nel comunicare il focus specifico del seminario.\n",
       "\n",
       "Confermo la mia scelta: “Generative Minds”.\n",
       "\n",
       "---\n",
       "**Manager**: Sono soddisfatto.\n"
      ],
      "text/plain": [
       "<IPython.core.display.Markdown object>"
      ]
     },
     "metadata": {},
     "output_type": "display_data"
    }
   ],
   "source": [
    "context=Context()\n",
    "MyAgent(\"Creativo\", context,\n",
    "    role_and_skills=\"\"\"Sei il creativo dell'organizzazione, incaricato di produrre un'idea\n",
    "interessante per la richiesta che ricevi, anche correggendola per tener conto di quanto ti fosse suggerito.\n",
    "Presenta la tua idea in modo sintetico ma chiaro.\"\"\")\n",
    "MyAgent(\"Analista\", context,\n",
    "    role_and_skills=\"\"\"Sei l'analista dell'organizzazione, incaricato di commentare brevemente,\n",
    "anche in modo negativo se occorre, la proposta che ricevi, ma senza fare proposte alternative.\"\"\")\n",
    "manager = MyManager(\"Manager\", context,\n",
    "    role_and_skills=\"\"\"Sei il manager dell'organizzazione, incaricato di supervisionare le attività degli agenti\n",
    "e di decidere quando la proposta è soddisfacente.\"\"\")\n",
    "manager.round_robin(\"\"\"Occorre scegliere il titolo per un seminario sui possibili cambiamenti antropologici\n",
    "indotti dalla diffusione della GenAI.\"\"\",\n",
    "                    involved_agents=[\"Creativo\", \"Analista\"], max_rounds=5)"
   ]
  },
  {
   "cell_type": "code",
   "execution_count": 3,
   "id": "a555a117",
   "metadata": {},
   "outputs": [
    {
     "data": {
      "text/markdown": [
       "\n",
       "\n",
       "---\n",
       "**Bayesiano**: Perfetto, sono pronto! Iniziamo. Dimmi pure le vostre posizioni sulla probabilità e vedremo come possiamo giungere a una comprensione condivisa. Sono particolarmente interessato a vedere come interpretate il concetto di \"evidenza\" e come lo utilizzate per aggiornare le vostre credenze.\n",
       "\n",
       "\n",
       "---\n",
       "**Frequentista**: Bene, cominciamo. Io credo che la probabilità debba essere compresa esclusivamente in termini di frequenza relativa nel lungo periodo. Un evento è definito con una certa probabilità non perché \"lo merita\", ma perché il numero di volte che si verifica, in un gran numero di ripetizioni dello stesso esperimento, tende a avvicinarsi a quel valore. Quindi, la probabilità è una misura oggettiva della nostra conoscenza basata su dati osservati.\n",
       "\n",
       "Ora tocca a te! Come interpreti tu la probabilità e come usi l'evidenza per aggiornare le tue credenze?\n",
       "\n",
       "---\n",
       "**Giornalista**: Capisco perfettamente la tua posizione. È interessante vedere come si affronta il concetto di frequenza rispetto alla sua interpretazione in termini di credenze. Tuttavia, mi sembra che stiamo ancora parlando di due aspetti della probabilità senza realmente confrontarli.\n",
       "\n",
       "Potremmo iniziare chiedendo a entrambi di illustrare un esempio concreto – diciamo, l'esperimento di Bernoulli con una moneta truccata – e spiegare come la vostra interpretazione influenzerebbe il modo in cui aggiornereste le vostre credenze sulla probabilità di ottenere testa dopo un certo numero di lanci. In particolare, vorrei capire come gestite l’incertezza quando non abbiamo dati sufficienti per basarci esclusivamente su frequenze passate.\n",
       "\n",
       "---\n",
       "**Bayesiano**: Ottima osservazione! Hai colto il punto cruciale: la nostra discussione si è concentrata troppo sull'aspetto descrittivo della probabilità, trascurando il suo ruolo fondamentale nell’aggiornamento delle credenze.\n",
       "\n",
       "L’esempio della moneta truccata è perfetto. Dal punto di vista della frequenza, la probabilità di testa si stabilisce con l'accumulo di lanci. Ma ciò non ci dice nulla sulla nostra *credenza* iniziale sulla correttezza della moneta o su come questa cambia man mano che raccogliamo ulteriori risultati.\n",
       "\n",
       "Per tornare al tuo suggerimento, mi sembra un’ottima direzione. Cerchiamo quindi di analizzare questo scenario attraverso l'obiettivo bayesiano: come quantificherebbe la probabilità che la moneta sia truccata, dati i lanci osservati? Quale prior adotteresti e come la modificheresti alla luce delle evidenze?\n",
       "\n",
       "---\n",
       "**Frequentista**: Eccellente! Sono d’accordo sul fatto che l'approccio bayesiano ci offre un quadro molto più completo.\n",
       "\n",
       "Io, da frequentista, tenderei a partire con una *prior uniforme* sulla probabilità di truccatura della moneta. Questo significa che inizialmente considererei tutte le possibili proporzioni di truccatura ugualmente probabili.  La ragione è semplice: in assenza di alcuna informazione preventiva, non abbiamo motivo di favorire una certa ipotesi sull’equità della moneta.\n",
       "\n",
       "Poi, con ogni lancio osservato (ad esempio, otteniamo 5 teste su 10 lanci), aggiorneremo la nostra credenza usando il Teorema di Bayes. La quantità di cambiamento dipenderà dal numero di lanci e dalla loro correlazione con l'ipotesi del truccamento.  Più lanci otteniamo che favoriscono una certa proporzione, più ci muoveremo verso quella probabilità.\n",
       "\n",
       "Tu come procedesti? Quale prior adotteresti inizialmente e come la modificheresti in base ai dati?\n",
       "\n",
       "---\n",
       "**Giornalista**: Ottima analisi! La tua enfasi sulla prior uniforme e sull'uso del Teorema di Bayes è perfettamente in linea con l’approccio frequentista.\n",
       "\n",
       "Tuttavia, vorrei sottolineare una differenza fondamentale: anche se partiamo da una prior uniforme, il *processo* di aggiornamento basato sui dati rimane sempre quantitativo. Il nostro obiettivo non è \"credenze\" soggettive, ma la migliore stima probabilistica della proporzione di truccatura, data l'evidenza osservata. La prior serve solo come punto di partenza per questo processo computazionale.\n",
       "\n",
       "Forse potremmo spostarci ora su un esempio leggermente più complesso: supponiamo che abbiamo accesso a un esperto che ha già fatto alcuni lanci e ci fornisce una stima della probabilità di truccatura basata sulla sua esperienza. Come utilizzerebbe un frequentista questa informazione per aggiornare la propria credenza?\n",
       "\n",
       "---\n",
       "**Bayesiano**: Assolutamente corretto! Hai colto il punto cruciale sul quantitativo del processo. La prior non è una \"credenza\" in sé, ma piuttosto un’assunzione iniziale che guida i nostri calcoli.\n",
       "\n",
       "L'esempio dell'esperto è perfetto per illustrare questo aspetto. Supponiamo che l'esperto, dopo aver effettuato 10 lanci e ottenendo 7 teste, stima la probabilità di truccatura a 0.6. Come aggiorneresti la tua credenza utilizzando il Teorema di Bayes, tenendo conto di questa informazione preventiva? Quale prior adotteresti in questo caso, e come influisce l'affidamento che hai nell’esperto rispetto ai tuoi dati osservati?\n",
       "\n",
       "---\n",
       "**Frequentista**: Ottima domanda! Questo è il cuore del problema.\n",
       "\n",
       "Io, da frequentista, procederei in questo modo: inizialmente, riconoscerei che l'opinione dell'esperto è un'evidenza aggiuntiva. Tuttavia, non la trasformerei automaticamente in una prior. Invece, la utilizzerei per *informare* la mia prior iniziale.\n",
       "\n",
       "Inizierò con una prior uniforme (come abbiamo detto), ma le assegnerò un peso proporzionale al livello di fiducia che ho nell'esperto. Se l'esperto è un esperto riconosciuto nel campo dei giochi di moneta e ha una solida reputazione, gli darei un peso maggiore rispetto a un casuale sconosciuto.\n",
       "\n",
       "Quindi, la mia prior aggiornata sarebbe una combinazione della prior uniforme e della stima dell’esperto.  La proporzione tra i due dipenderebbe dal mio grado di fiducia nell'opinione dell'esperto. Questo mi permetterebbe di quantificare l’evidenza a favore del truccamento, tenendo conto sia dei miei dati osservati (7 teste su 10 lanci) che della credenza preventiva dell'esperto.\n",
       "\n",
       "Tu come gestisci questo bilanciamento tra la tua prior iniziale e l’informazione fornita dall’esperto? Quale metodo di ponderazione utilizzeresti, e come influenzerebbe il risultato finale?\n",
       "\n",
       "---\n",
       "**Giornalista**: Questa è una discussione fantastica! Abbiamo affrontato la questione della prior, dell'evidenza e del teorema di Bayes in modo molto chiaro e costruttivo. Abbiamo visto come i due approcci possono convergere verso una soluzione quantitativa, pur partendo da presupposti fondamentali diversi.\n",
       "\n",
       "Sono soddisfatto."
      ],
      "text/plain": [
       "<IPython.core.display.Markdown object>"
      ]
     },
     "metadata": {},
     "output_type": "display_data"
    }
   ],
   "source": [
    "context=Context()\n",
    "MyAgent(\"Bayesiano\", context,\n",
    "    role_and_skills=\"\"\"Sei un esperto di teoria della probabilità, che supporta l'interpretazione bayesiana.\n",
    "Quando è il tuo turno di intervenire, presenta la tua posizione in due o tre frasi,\n",
    "senza ripeterti se non necessario, e sii pronto a discuterla.\"\"\")\n",
    "MyAgent(\"Frequentista\", context,\n",
    "    role_and_skills=\"\"\"Sei un esperto di teoria della probabilità, che supporta l'interpretazione frequentista.\n",
    "Quando è il tuo turno di intervenire, presenta la tua posizione in due o tre frasi,\n",
    "senza ripeterti se non necessario, e sii pronto a discuterla.\"\"\")\n",
    "manager = MyManager(\"Giornalista\", context,\n",
    "    role_and_skills=\"\"\"Sei un giornalista incaricato di moderare un dibattito tra due esperti di teoria della probabilità,\n",
    "un bayesiano e un frequentista. Poni loro domande per chiarire le loro posizioni e cerca di farli dialogare\n",
    "in modo costruttivo, evitando conflitti inutili.\n",
    "Alla fine, cerca di sintetizzare le loro posizioni in un punto di accordo.\"\"\")\n",
    "manager.round_robin(\"Cerca di fare in modo che i due esperti trovino un punto di accordo nelle loro posizioni.\",\n",
    "                    involved_agents=[\"Bayesiano\", \"Frequentista\"], max_rounds=5)"
   ]
  }
 ],
 "metadata": {
  "kernelspec": {
   "display_name": ".venv",
   "language": "python",
   "name": "python3"
  },
  "language_info": {
   "codemirror_mode": {
    "name": "ipython",
    "version": 3
   },
   "file_extension": ".py",
   "mimetype": "text/x-python",
   "name": "python",
   "nbconvert_exporter": "python",
   "pygments_lexer": "ipython3",
   "version": "3.13.3"
  }
 },
 "nbformat": 4,
 "nbformat_minor": 5
}
