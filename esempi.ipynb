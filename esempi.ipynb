{
 "cells": [
  {
   "cell_type": "code",
   "execution_count": 1,
   "id": "48dd48ff",
   "metadata": {},
   "outputs": [],
   "source": [
    "from agents import Context, MyAgent"
   ]
  },
  {
   "cell_type": "code",
   "execution_count": 2,
   "id": "4a891be4",
   "metadata": {},
   "outputs": [
    {
     "data": {
      "text/markdown": [
       "\n",
       "\n",
       "---\n",
       "**Agente**: Certo, ecco cinque nazioni europee con le loro capitali:\n",
       "\n",
       "1.  **Italia** - Roma\n",
       "2.  **Francia** - Parigi\n",
       "3.  **Spagna** - Madrid\n",
       "4.  **Germania** - Berlino\n",
       "5.  **Regno Unito** - Londra \n",
       "\n",
       "Spero ti sia utile! 😊"
      ],
      "text/plain": [
       "<IPython.core.display.Markdown object>"
      ]
     },
     "metadata": {},
     "output_type": "display_data"
    }
   ],
   "source": [
    "MyAgent(\"Agente\", Context(),\n",
    "    role_and_skills=\"Rispondi sempre in italiano.\").do(\"Indica cinque nazioni europee con le rispettive capitali.\")"
   ]
  },
  {
   "cell_type": "code",
   "execution_count": 3,
   "id": "5bd3bba1",
   "metadata": {},
   "outputs": [
    {
     "data": {
      "text/markdown": [
       "\n",
       "\n",
       "---\n",
       "**Agente**: {\"list\": [\n",
       "  [\"Italia\", \"Roma\"],\n",
       "  [\"Francia\", \"Parigi\"],\n",
       "  [\"Spagna\", \"Madrid\"],\n",
       "  [\"Germania\", \"Berlino\"],\n",
       "  [\"Regno Unito\", \"Londra\"]\n",
       "]}\n"
      ],
      "text/plain": [
       "<IPython.core.display.Markdown object>"
      ]
     },
     "metadata": {},
     "output_type": "display_data"
    }
   ],
   "source": [
    "from pydantic import BaseModel, Field\n",
    "from typing import List, Tuple\n",
    "\n",
    "class ElencoDiNazioni(BaseModel):\n",
    "    \"\"\"Una lista di coppie di stringhe, ciascuna relativa a una nazione.\"\"\"\n",
    "    list: List[Tuple[str, str]] = Field(..., \n",
    "        description=\"Una lista di coppie, dove ogni coppia contiene il nome di una nazione e il nome della sua capitale.\"\n",
    "    )\n",
    "\n",
    "MyAgent(\"Agente\", context:=Context(), response_format=ElencoDiNazioni,\n",
    "    role_and_skills=\"Rispondi sempre in italiano.\").do(\"Indica cinque nazioni europee con le rispettive capitali.\")"
   ]
  },
  {
   "cell_type": "code",
   "execution_count": 4,
   "id": "ae74642e",
   "metadata": {},
   "outputs": [
    {
     "name": "stdout",
     "output_type": "stream",
     "text": [
      "Roma\n",
      "Parigi\n",
      "Madrid\n",
      "Berlino\n",
      "Londra\n"
     ]
    }
   ],
   "source": [
    "import json\n",
    "risposta = json.loads(context.last_result)['list'] # type: ignore\n",
    "for nazione, capitale in risposta:\n",
    "    print(f\"{capitale}\")"
   ]
  },
  {
   "cell_type": "code",
   "execution_count": 4,
   "id": "5482589c",
   "metadata": {},
   "outputs": [
    {
     "data": {
      "text/markdown": [
       "\n",
       "\n",
       "---\n",
       "**Agente**: Come modello linguistico, non ho la capacità di sapere che ora è realmente. Non ho un orologio o una sensazione del tempo. \n",
       "\n",
       "Per favore, controlla il tuo telefono, un orologio o chiedi a qualcuno per sapere l'ora! 😊\n"
      ],
      "text/plain": [
       "<IPython.core.display.Markdown object>"
      ]
     },
     "metadata": {},
     "output_type": "display_data"
    }
   ],
   "source": [
    "MyAgent(\"Agente\", Context(),\n",
    "    role_and_skills=\"Sei incaricato di gestire l'orario.\").do(\"Che ore sono?\")"
   ]
  },
  {
   "cell_type": "code",
   "execution_count": 4,
   "id": "e9333fe0",
   "metadata": {},
   "outputs": [
    {
     "data": {
      "text/markdown": [
       "---\n",
       "**Agente**: Sono le 17:07 a Londra."
      ],
      "text/plain": [
       "<IPython.core.display.Markdown object>"
      ]
     },
     "metadata": {},
     "output_type": "display_data"
    }
   ],
   "source": [
    "import agenttools\n",
    "\n",
    "MyAgent(\"Agente\", context:=Context(), tools=[agenttools.get_current_day_and_time],\n",
    "    role_and_skills=\"Sei incaricato di gestire l'orario.\").do(\"Che ore sono a Londra?\", tool_handling=\"expanded\")"
   ]
  }
 ],
 "metadata": {
  "kernelspec": {
   "display_name": ".venv",
   "language": "python",
   "name": "python3"
  },
  "language_info": {
   "codemirror_mode": {
    "name": "ipython",
    "version": 3
   },
   "file_extension": ".py",
   "mimetype": "text/x-python",
   "name": "python",
   "nbconvert_exporter": "python",
   "pygments_lexer": "ipython3",
   "version": "3.13.3"
  }
 },
 "nbformat": 4,
 "nbformat_minor": 5
}
