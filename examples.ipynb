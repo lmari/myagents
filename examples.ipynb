{
 "cells": [
  {
   "cell_type": "code",
   "execution_count": 2,
   "id": "48dd48ff",
   "metadata": {},
   "outputs": [],
   "source": [
    "from agents import Context, MyAgent"
   ]
  },
  {
   "cell_type": "code",
   "execution_count": 3,
   "id": "4a891be4",
   "metadata": {},
   "outputs": [
    {
     "data": {
      "text/markdown": [
       "\n",
       "\n",
       "---\n",
       "**Agent**: Okay, here are six Asian countries and their respective capital cities:\n",
       "\n",
       "1.  **Japan** - Tokyo\n",
       "2.  **China** - Beijing\n",
       "3.  **India** - New Delhi\n",
       "4.  **South Korea** - Seoul\n",
       "5.  **Vietnam** – Hanoi\n",
       "6.  **Thailand** – Bangkok \n",
       "\n",
       "Do you want to know anything more about these countries or perhaps a different list?"
      ],
      "text/plain": [
       "<IPython.core.display.Markdown object>"
      ]
     },
     "metadata": {},
     "output_type": "display_data"
    }
   ],
   "source": [
    "MyAgent(\"Agent\", Context(),\n",
    "    role_and_skills=\"Always answer in English.\").do(\"List six Asian coutries with their capital cities.\")"
   ]
  },
  {
   "cell_type": "code",
   "execution_count": 18,
   "id": "5bd3bba1",
   "metadata": {},
   "outputs": [
    {
     "data": {
      "text/markdown": [
       "\n",
       "\n",
       "---\n",
       "**Agente**: {\"list\": [\n",
       "    [\"Italia\", \"Roma\"],\n",
       "    [\"Francia\", \"Parigi\"],\n",
       "    [\"Spagna\", \"Madrid\"],\n",
       "    [\"Germania\", \"Berlino\"],\n",
       "    [\"Regno Unito\", \"Londra\"]\n",
       "]}\n"
      ],
      "text/plain": [
       "<IPython.core.display.Markdown object>"
      ]
     },
     "metadata": {},
     "output_type": "display_data"
    }
   ],
   "source": [
    "from pydantic import BaseModel, Field\n",
    "from typing import List, Tuple\n",
    "\n",
    "class ElencoDiNazioni(BaseModel):\n",
    "    \"\"\"Una lista di coppie di stringhe, ciascuna relativa a una nazione.\"\"\"\n",
    "    list: List[Tuple[str, str]] = Field(..., \n",
    "        description=\"Una lista di coppie, dove ogni coppia contiene il nome di una nazione e il nome della sua capitale.\"\n",
    "    )\n",
    "\n",
    "MyAgent(\"Agente\", context:=Context(), response_format=ElencoDiNazioni,\n",
    "    role_and_skills=\"Rispondi sempre in italiano.\").do(\"Indica cinque nazioni europee con le rispettive capitali.\")"
   ]
  },
  {
   "cell_type": "code",
   "execution_count": 4,
   "id": "ae74642e",
   "metadata": {},
   "outputs": [
    {
     "name": "stdout",
     "output_type": "stream",
     "text": [
      "Roma\n",
      "Parigi\n",
      "Madrid\n",
      "Berlino\n",
      "Londra\n"
     ]
    }
   ],
   "source": [
    "import json\n",
    "risposta = json.loads(context.last_result)['list'] # type: ignore\n",
    "for nazione, capitale in risposta:\n",
    "    print(f\"{capitale}\")"
   ]
  },
  {
   "cell_type": "code",
   "execution_count": 5,
   "id": "334ecc8f",
   "metadata": {},
   "outputs": [
    {
     "data": {
      "text/plain": [
       "{'type': 'json_schema',\n",
       " 'json_schema': {'schema': {'description': 'Una lista di coppie di stringhe, ciascuna relativa a una nazione.',\n",
       "   'properties': {'list': {'description': 'Una lista di coppie, dove ogni coppia contiene il nome di una nazione e il nome della sua capitale.',\n",
       "     'items': {'maxItems': 2,\n",
       "      'minItems': 2,\n",
       "      'prefixItems': [{'type': 'string'}, {'type': 'string'}],\n",
       "      'type': 'array'},\n",
       "     'title': 'List',\n",
       "     'type': 'array'}},\n",
       "   'required': ['list'],\n",
       "   'title': 'ElencoDiNazioni',\n",
       "   'type': 'object'},\n",
       "  'strict': True}}"
      ]
     },
     "execution_count": 5,
     "metadata": {},
     "output_type": "execute_result"
    }
   ],
   "source": [
    "from agents import _get_format_metadata\n",
    "_get_format_metadata(ElencoDiNazioni)"
   ]
  },
  {
   "cell_type": "code",
   "execution_count": 22,
   "id": "5482589c",
   "metadata": {},
   "outputs": [
    {
     "data": {
      "text/markdown": [
       "\n",
       "\n",
       "---\n",
       "**Agente**: Come modello linguistico, non ho la capacità di sapere che ora è. Non ho accesso a informazioni in tempo reale come l'ora corrente.\n"
      ],
      "text/plain": [
       "<IPython.core.display.Markdown object>"
      ]
     },
     "metadata": {},
     "output_type": "display_data"
    }
   ],
   "source": [
    "MyAgent(\"Agente\", Context(),\n",
    "    role_and_skills=\"Sei incaricato di gestire l'orario.\").do(\"Che ore sono?\")"
   ]
  },
  {
   "cell_type": "code",
   "execution_count": 30,
   "id": "e9333fe0",
   "metadata": {},
   "outputs": [
    {
     "data": {
      "text/markdown": [
       "---\n",
       "**Agente**: <think>\n",
       "\n",
       "</think>\n",
       "\n",
       "A Londra, le ore sono 17:36."
      ],
      "text/plain": [
       "<IPython.core.display.Markdown object>"
      ]
     },
     "metadata": {},
     "output_type": "display_data"
    }
   ],
   "source": [
    "import agenttools\n",
    "\n",
    "MyAgent(\"Agente\", context:=Context(), tools=[agenttools.get_current_day_and_time],\n",
    "    role_and_skills=\"Sei incaricato di gestire l'orario.\").do(\"Che ore sono a Londra? /no_think\", tool_handling=\"expanded\")"
   ]
  },
  {
   "cell_type": "code",
   "execution_count": 28,
   "id": "707f40b2",
   "metadata": {},
   "outputs": [
    {
     "data": {
      "text/markdown": [
       "---\n",
       "**Agente**: 2025-05-21 17:31:26.449417+01:00"
      ],
      "text/plain": [
       "<IPython.core.display.Markdown object>"
      ]
     },
     "metadata": {},
     "output_type": "display_data"
    }
   ],
   "source": [
    "MyAgent(\"Agente\", context:=Context(), tools=[agenttools.get_current_day_and_time],\n",
    "    role_and_skills=\"Sei incaricato di gestire l'orario.\").do(\"Che ore sono a Londra?\", tool_handling=\"standard\")"
   ]
  },
  {
   "cell_type": "code",
   "execution_count": 27,
   "id": "03a98410",
   "metadata": {},
   "outputs": [
    {
     "data": {
      "text/markdown": [
       "---\n",
       "**Agente**: ChatCompletionMessageToolCall(id='177813979', function=Function(arguments='{\"zone\":\"Europe/London\"}', name='get_current_day_and_time'), type='function')"
      ],
      "text/plain": [
       "<IPython.core.display.Markdown object>"
      ]
     },
     "metadata": {},
     "output_type": "display_data"
    }
   ],
   "source": [
    "MyAgent(\"Agente\", context:=Context(), tools=[agenttools.get_current_day_and_time],\n",
    "    role_and_skills=\"Sei incaricato di gestire l'orario.\").do(\"Che ore sono a Londra?\", tool_handling=\"schema\")"
   ]
  }
 ],
 "metadata": {
  "kernelspec": {
   "display_name": ".venv",
   "language": "python",
   "name": "python3"
  },
  "language_info": {
   "codemirror_mode": {
    "name": "ipython",
    "version": 3
   },
   "file_extension": ".py",
   "mimetype": "text/x-python",
   "name": "python",
   "nbconvert_exporter": "python",
   "pygments_lexer": "ipython3",
   "version": "3.13.3"
  }
 },
 "nbformat": 4,
 "nbformat_minor": 5
}
